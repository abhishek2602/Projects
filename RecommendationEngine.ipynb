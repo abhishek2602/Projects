{
  "nbformat": 4,
  "nbformat_minor": 0,
  "metadata": {
    "colab": {
      "name": "RecommendationEngine.ipynb",
      "version": "0.3.2",
      "provenance": [],
      "include_colab_link": true
    },
    "kernelspec": {
      "display_name": "Python 3",
      "language": "python",
      "name": "python3"
    }
  },
  "cells": [
    {
      "cell_type": "markdown",
      "metadata": {
        "id": "view-in-github",
        "colab_type": "text"
      },
      "source": [
        "<a href=\"https://colab.research.google.com/github/abhishek2602/Projects/blob/master/RecommendationEngine.ipynb\" target=\"_parent\"><img src=\"https://colab.research.google.com/assets/colab-badge.svg\" alt=\"Open In Colab\"/></a>"
      ]
    },
    {
      "metadata": {
        "id": "O4HZPrRvY3P9",
        "colab_type": "code",
        "colab": {}
      },
      "cell_type": "code",
      "source": [
        "import pandas as pd\n",
        "import numpy as np\n",
        "import math\n",
        "from math import sqrt\n",
        "import codecs"
      ],
      "execution_count": 0,
      "outputs": []
    },
    {
      "metadata": {
        "id": "KDRMUhV-Y3QC",
        "colab_type": "code",
        "colab": {},
        "outputId": "a3facd53-4cc8-4b9d-8a4f-4cbf00708e45"
      },
      "cell_type": "code",
      "source": [
        "# Getting the movie Dataset\n",
        "doc = codecs.open('u.item', 'rU', 'latin-1') # open for reading the 'universal' type set\n",
        "moviedb = pd.read_csv(doc, sep = '|', names = range(0, 24))\n",
        "moviedb.drop((moviedb.iloc[:,2:]), inplace = True, axis = 1) # Dropping columns that will not be used for this excercise\n",
        "moviedb.columns = ['movieid', 'movie_title']\n",
        "moviedb.head()"
      ],
      "execution_count": 0,
      "outputs": [
        {
          "output_type": "execute_result",
          "data": {
            "text/html": [
              "<div>\n",
              "<style scoped>\n",
              "    .dataframe tbody tr th:only-of-type {\n",
              "        vertical-align: middle;\n",
              "    }\n",
              "\n",
              "    .dataframe tbody tr th {\n",
              "        vertical-align: top;\n",
              "    }\n",
              "\n",
              "    .dataframe thead th {\n",
              "        text-align: right;\n",
              "    }\n",
              "</style>\n",
              "<table border=\"1\" class=\"dataframe\">\n",
              "  <thead>\n",
              "    <tr style=\"text-align: right;\">\n",
              "      <th></th>\n",
              "      <th>movieid</th>\n",
              "      <th>movie_title</th>\n",
              "    </tr>\n",
              "  </thead>\n",
              "  <tbody>\n",
              "    <tr>\n",
              "      <th>0</th>\n",
              "      <td>1</td>\n",
              "      <td>Toy Story (1995)</td>\n",
              "    </tr>\n",
              "    <tr>\n",
              "      <th>1</th>\n",
              "      <td>2</td>\n",
              "      <td>GoldenEye (1995)</td>\n",
              "    </tr>\n",
              "    <tr>\n",
              "      <th>2</th>\n",
              "      <td>3</td>\n",
              "      <td>Four Rooms (1995)</td>\n",
              "    </tr>\n",
              "    <tr>\n",
              "      <th>3</th>\n",
              "      <td>4</td>\n",
              "      <td>Get Shorty (1995)</td>\n",
              "    </tr>\n",
              "    <tr>\n",
              "      <th>4</th>\n",
              "      <td>5</td>\n",
              "      <td>Copycat (1995)</td>\n",
              "    </tr>\n",
              "  </tbody>\n",
              "</table>\n",
              "</div>"
            ],
            "text/plain": [
              "   movieid        movie_title\n",
              "0        1   Toy Story (1995)\n",
              "1        2   GoldenEye (1995)\n",
              "2        3  Four Rooms (1995)\n",
              "3        4  Get Shorty (1995)\n",
              "4        5     Copycat (1995)"
            ]
          },
          "metadata": {
            "tags": []
          },
          "execution_count": 6
        }
      ]
    },
    {
      "metadata": {
        "id": "Fr22aRBNY3QI",
        "colab_type": "code",
        "colab": {},
        "outputId": "ca110676-2152-4192-a00b-b3e948a45b21"
      },
      "cell_type": "code",
      "source": [
        "# Reading the dataset\n",
        "df = pd.read_table('u.data', names = ('userid', 'itemid', 'rating', 'timestamp'))\n",
        "df.head()"
      ],
      "execution_count": 0,
      "outputs": [
        {
          "output_type": "execute_result",
          "data": {
            "text/html": [
              "<div>\n",
              "<style scoped>\n",
              "    .dataframe tbody tr th:only-of-type {\n",
              "        vertical-align: middle;\n",
              "    }\n",
              "\n",
              "    .dataframe tbody tr th {\n",
              "        vertical-align: top;\n",
              "    }\n",
              "\n",
              "    .dataframe thead th {\n",
              "        text-align: right;\n",
              "    }\n",
              "</style>\n",
              "<table border=\"1\" class=\"dataframe\">\n",
              "  <thead>\n",
              "    <tr style=\"text-align: right;\">\n",
              "      <th></th>\n",
              "      <th>userid</th>\n",
              "      <th>itemid</th>\n",
              "      <th>rating</th>\n",
              "      <th>timestamp</th>\n",
              "    </tr>\n",
              "  </thead>\n",
              "  <tbody>\n",
              "    <tr>\n",
              "      <th>0</th>\n",
              "      <td>196</td>\n",
              "      <td>242</td>\n",
              "      <td>3</td>\n",
              "      <td>881250949</td>\n",
              "    </tr>\n",
              "    <tr>\n",
              "      <th>1</th>\n",
              "      <td>186</td>\n",
              "      <td>302</td>\n",
              "      <td>3</td>\n",
              "      <td>891717742</td>\n",
              "    </tr>\n",
              "    <tr>\n",
              "      <th>2</th>\n",
              "      <td>22</td>\n",
              "      <td>377</td>\n",
              "      <td>1</td>\n",
              "      <td>878887116</td>\n",
              "    </tr>\n",
              "    <tr>\n",
              "      <th>3</th>\n",
              "      <td>244</td>\n",
              "      <td>51</td>\n",
              "      <td>2</td>\n",
              "      <td>880606923</td>\n",
              "    </tr>\n",
              "    <tr>\n",
              "      <th>4</th>\n",
              "      <td>166</td>\n",
              "      <td>346</td>\n",
              "      <td>1</td>\n",
              "      <td>886397596</td>\n",
              "    </tr>\n",
              "  </tbody>\n",
              "</table>\n",
              "</div>"
            ],
            "text/plain": [
              "   userid  itemid  rating  timestamp\n",
              "0     196     242       3  881250949\n",
              "1     186     302       3  891717742\n",
              "2      22     377       1  878887116\n",
              "3     244      51       2  880606923\n",
              "4     166     346       1  886397596"
            ]
          },
          "metadata": {
            "tags": []
          },
          "execution_count": 7
        }
      ]
    },
    {
      "metadata": {
        "id": "uqzb7xlIY3QM",
        "colab_type": "code",
        "colab": {},
        "outputId": "4e2cf84b-d818-4460-a544-1d946958f3d6"
      },
      "cell_type": "code",
      "source": [
        "# Preprocessing\n",
        "df.sort_values(by = ['userid'], ascending = True, inplace = True)\n",
        "df.drop(columns = ['timestamp'], inplace = True) # Dropping unwanted columns\n",
        "df.head()"
      ],
      "execution_count": 0,
      "outputs": [
        {
          "output_type": "execute_result",
          "data": {
            "text/html": [
              "<div>\n",
              "<style scoped>\n",
              "    .dataframe tbody tr th:only-of-type {\n",
              "        vertical-align: middle;\n",
              "    }\n",
              "\n",
              "    .dataframe tbody tr th {\n",
              "        vertical-align: top;\n",
              "    }\n",
              "\n",
              "    .dataframe thead th {\n",
              "        text-align: right;\n",
              "    }\n",
              "</style>\n",
              "<table border=\"1\" class=\"dataframe\">\n",
              "  <thead>\n",
              "    <tr style=\"text-align: right;\">\n",
              "      <th></th>\n",
              "      <th>userid</th>\n",
              "      <th>itemid</th>\n",
              "      <th>rating</th>\n",
              "    </tr>\n",
              "  </thead>\n",
              "  <tbody>\n",
              "    <tr>\n",
              "      <th>66567</th>\n",
              "      <td>1</td>\n",
              "      <td>55</td>\n",
              "      <td>5</td>\n",
              "    </tr>\n",
              "    <tr>\n",
              "      <th>62820</th>\n",
              "      <td>1</td>\n",
              "      <td>203</td>\n",
              "      <td>4</td>\n",
              "    </tr>\n",
              "    <tr>\n",
              "      <th>10207</th>\n",
              "      <td>1</td>\n",
              "      <td>183</td>\n",
              "      <td>5</td>\n",
              "    </tr>\n",
              "    <tr>\n",
              "      <th>9971</th>\n",
              "      <td>1</td>\n",
              "      <td>150</td>\n",
              "      <td>5</td>\n",
              "    </tr>\n",
              "    <tr>\n",
              "      <th>22496</th>\n",
              "      <td>1</td>\n",
              "      <td>68</td>\n",
              "      <td>4</td>\n",
              "    </tr>\n",
              "  </tbody>\n",
              "</table>\n",
              "</div>"
            ],
            "text/plain": [
              "       userid  itemid  rating\n",
              "66567       1      55       5\n",
              "62820       1     203       4\n",
              "10207       1     183       5\n",
              "9971        1     150       5\n",
              "22496       1      68       4"
            ]
          },
          "metadata": {
            "tags": []
          },
          "execution_count": 8
        }
      ]
    },
    {
      "metadata": {
        "id": "3QvXTanHY3QQ",
        "colab_type": "code",
        "colab": {}
      },
      "cell_type": "code",
      "source": [
        "# Function to convert dataframe to nested dictionary\n",
        "def recur_dictify(frame):\n",
        "    if len(frame.columns) == 1:\n",
        "        if frame.values.size == 1:\n",
        "            return frame.values[0][0]\n",
        "        return frame.values.squeeze()\n",
        "    grouped = frame.groupby(frame.columns[0])\n",
        "    d = {k: recur_dictify(g.iloc[:,1:]) for k, g in grouped}\n",
        "    return d"
      ],
      "execution_count": 0,
      "outputs": []
    },
    {
      "metadata": {
        "id": "Hmzf0e1EY3QS",
        "colab_type": "code",
        "colab": {}
      },
      "cell_type": "code",
      "source": [
        "df2 = recur_dictify(df)"
      ],
      "execution_count": 0,
      "outputs": []
    },
    {
      "metadata": {
        "id": "gcWgVjS0Y3QV",
        "colab_type": "text"
      },
      "cell_type": "markdown",
      "source": [
        "**Pearson Correlation Score**\n",
        "\n",
        "Implementation for the Pearson correlation score first finds the items rated by both users. It then calculates the sums and the sum of the squares of the ratings for the both users and calculates the sum of the products of their ratings. Finally, it uses these results to calculate the Pearson correlation coefficient.Unlike the distance metric, this formula is not intuitive, but it does tell you how much the variables change together divided by the product of how much they alter individually.\n",
        "\n",
        "Generally, this pearson_correlation function returns a value between -1 to 1 . A value 1 means both users are having the same taste in all most all cases."
      ]
    },
    {
      "metadata": {
        "id": "gsxt3Qq3Y3QW",
        "colab_type": "code",
        "colab": {}
      },
      "cell_type": "code",
      "source": [
        "#defining pearson similiarity to get simillarity between 2 users\n",
        "def pearson_correlation(person1,person2):\n",
        "    # To get both rated items\n",
        "    both_rated = {}\n",
        "    for item in df2[person1]:\n",
        "        if item in df2[person2]:\n",
        "            both_rated[item] = 1 # gives the list of movies both have rated \n",
        " \n",
        "    number_of_ratings = len(both_rated)#gives the total no of the above \n",
        "    \n",
        "    # Checking for number of ratings in common\n",
        "    if number_of_ratings == 0:\n",
        "        return 0\n",
        "    \n",
        "     # Add up all the preferences of each user\n",
        "    person1_preferences_sum = sum([df2[person1][item] for item in both_rated])\n",
        "    person2_preferences_sum = sum([df2[person2][item] for item in both_rated])\n",
        "    \n",
        "    # Sum up the squares of preferences of each user\n",
        "    person1_square_preferences_sum = sum([pow(df2[person1][item],2) for item in both_rated])\n",
        "    person2_square_preferences_sum = sum([pow(df2[person2][item],2) for item in both_rated])\n",
        "    \n",
        "    # Sum up the product value of both preferences for each item\n",
        "    product_sum_of_both_users = sum([df2[person1][item] * df2[person2][item] for item in both_rated])\n",
        "    \n",
        "    # Calculate the pearson score\n",
        "    numerator_value = product_sum_of_both_users - (person1_preferences_sum*person2_preferences_sum/number_of_ratings)\n",
        "    denominator_value = sqrt((person1_square_preferences_sum - pow(person1_preferences_sum,2)/number_of_ratings) * (person2_square_preferences_sum -pow(person2_preferences_sum,2)/number_of_ratings))\n",
        "    if denominator_value == 0:\n",
        "        return (0)\n",
        "    else:\n",
        "        r = numerator_value/denominator_value\n",
        "        return (r) \n",
        "    #returns a value between -1 to 1 . A value 1 means both users are having the same taste in all most all cases.\n",
        "\n",
        "\n"
      ],
      "execution_count": 0,
      "outputs": []
    },
    {
      "metadata": {
        "id": "vrdQsfr-Y3QY",
        "colab_type": "code",
        "colab": {}
      },
      "cell_type": "code",
      "source": [
        "def user_recommendations(person,no_of_movies):\n",
        " \n",
        "    # Gets recommendations for a person by using a weighted average of every other user's rankings\n",
        "    totals = {}\n",
        "    simSums = {}\n",
        "    rankings_list =[]\n",
        "    for other in df2:\n",
        "        # don't compare me to myself\n",
        "        if other == person:\n",
        "            continue\n",
        "        sim = pearson_correlation(person,other)\n",
        " \n",
        "        # ignore scores of zero or lower\n",
        "        if sim == 0: \n",
        "            continue\n",
        "        for item in df2[other]:\n",
        " \n",
        "            # only score movies i haven't seen yet\n",
        "            if item not in df2[person] or df2[person][item] == 0:\n",
        " \n",
        "            # Similrity * score\n",
        "                totals.setdefault(item,0)\n",
        "                totals[item] += df2[other][item]* sim\n",
        "                # sum of similarities\n",
        "                simSums.setdefault(item,0)\n",
        "                simSums[item]+= sim\n",
        " \n",
        "        # Create the normalized list\n",
        " \n",
        "    rankings = [(total/simSums[item],item) for item,total in totals.items()]\n",
        "    rankings.sort()\n",
        "    rankings.reverse()\n",
        "    # returns the recommended items\n",
        "    recommendataions_list = [recommend_item for score,recommend_item in rankings]\n",
        "    best_movies=recommendataions_list[0:no_of_movies]\n",
        "    print(\"\\n\")\n",
        "    for movie in best_movies:\n",
        "        likes= (moviedb.loc[moviedb['movieid'] == movie,'movie_title'].tolist())\n",
        "        \n",
        "        print ( ' '.join(likes)) #removing the quotes and brackets\n",
        "    print(\"\\n\")\n",
        "    return(\"\\n These are the movies user %s would like...\" %person)"
      ],
      "execution_count": 0,
      "outputs": []
    },
    {
      "metadata": {
        "id": "UZChDJ0YY3Qa",
        "colab_type": "code",
        "colab": {},
        "outputId": "c2f39205-1817-4e48-d11b-44ed1e02d244"
      },
      "cell_type": "code",
      "source": [
        "user = input (\"Please enter the user id: \")\n",
        "noofmovies = input(\"How many movies do you want to recommend? \")\n",
        "print (user_recommendations(int (user),int (noofmovies)))"
      ],
      "execution_count": 0,
      "outputs": [
        {
          "output_type": "stream",
          "text": [
            "Please enter the user id: 101\n",
            "How many movies do you want to recommend? 5\n",
            "\n",
            "\n",
            "Leading Man, The (1996)\n",
            "Truman Show, The (1998)\n",
            "Four Days in September (1997)\n",
            "Year of the Horse (1997)\n",
            "In the Bleak Midwinter (1995)\n",
            "\n",
            "\n",
            "\n",
            " These are the movies user 101 would like...\n"
          ],
          "name": "stdout"
        },
        {
          "output_type": "stream",
          "text": [
            "/anaconda3/lib/python3.6/site-packages/ipykernel_launcher.py:30: RuntimeWarning: divide by zero encountered in double_scalars\n"
          ],
          "name": "stderr"
        }
      ]
    },
    {
      "metadata": {
        "id": "ri8uMVhvY3Qe",
        "colab_type": "text"
      },
      "cell_type": "markdown",
      "source": [
        "Now for a new user we can take his liking which will then recommend"
      ]
    },
    {
      "metadata": {
        "id": "5hoypeEEY3Qe",
        "colab_type": "code",
        "colab": {}
      },
      "cell_type": "code",
      "source": [
        "#Recommending movies for a new user \n",
        "def userlist():\n",
        "    df2=recur_dictify(df)\n",
        "    allratings = {} #empty dict for appending all the rating of that user\n",
        "    name = input(\"Please enter your name: \")\n",
        "    noofmovies = input (\"How many movies do you want to recommend? \")\n",
        "    for item in moviedb['movieid']:\n",
        "        #getting the movie for movie id for the user to see\n",
        "        moviename= moviedb.loc[moviedb['movieid'] == item,'movie_title'].tolist()\n",
        "        rating = input(\"Please enter your rating 0-5 for %s: \\n to skip this rating press s \\n to exit press e \" % moviename)\n",
        "        if rating == \"e\":\n",
        "            break\n",
        "        elif rating == \"s\":\n",
        "            continue\n",
        "        else :\n",
        "            allratings.update({item:int(float(rating))})\n",
        "    #appending the ratings to that user\n",
        "    df2.update({name:allratings})\n",
        "    return (df2,name,noofmovies)"
      ],
      "execution_count": 0,
      "outputs": []
    },
    {
      "metadata": {
        "id": "O4WILi13Y3Qg",
        "colab_type": "code",
        "colab": {},
        "outputId": "e1783805-bd2d-4357-bca0-a6a6756a2f29"
      },
      "cell_type": "code",
      "source": [
        "df2, name2, nof = userlist()\n",
        "print(user_recommendations(name2, int(nof)))"
      ],
      "execution_count": 0,
      "outputs": [
        {
          "output_type": "stream",
          "text": [
            "Please enter your name: Abhishek\n",
            "How many movies do you want to recommend? 10\n",
            "Please enter your rating 0-5 for ['Toy Story (1995)']: \n",
            " to skip this rating press s \n",
            " to exit press e 5\n",
            "Please enter your rating 0-5 for ['GoldenEye (1995)']: \n",
            " to skip this rating press s \n",
            " to exit press e 4\n",
            "Please enter your rating 0-5 for ['Four Rooms (1995)']: \n",
            " to skip this rating press s \n",
            " to exit press e s\n",
            "Please enter your rating 0-5 for ['Get Shorty (1995)']: \n",
            " to skip this rating press s \n",
            " to exit press e s\n",
            "Please enter your rating 0-5 for ['Copycat (1995)']: \n",
            " to skip this rating press s \n",
            " to exit press e s\n",
            "Please enter your rating 0-5 for ['Shanghai Triad (Yao a yao yao dao waipo qiao) (1995)']: \n",
            " to skip this rating press s \n",
            " to exit press e s\n",
            "Please enter your rating 0-5 for ['Twelve Monkeys (1995)']: \n",
            " to skip this rating press s \n",
            " to exit press e 5\n",
            "Please enter your rating 0-5 for ['Babe (1995)']: \n",
            " to skip this rating press s \n",
            " to exit press e s\n",
            "Please enter your rating 0-5 for ['Dead Man Walking (1995)']: \n",
            " to skip this rating press s \n",
            " to exit press e s\n",
            "Please enter your rating 0-5 for ['Richard III (1995)']: \n",
            " to skip this rating press s \n",
            " to exit press e s\n",
            "Please enter your rating 0-5 for ['Seven (Se7en) (1995)']: \n",
            " to skip this rating press s \n",
            " to exit press e 5\n",
            "Please enter your rating 0-5 for ['Usual Suspects, The (1995)']: \n",
            " to skip this rating press s \n",
            " to exit press e 5\n",
            "Please enter your rating 0-5 for ['Mighty Aphrodite (1995)']: \n",
            " to skip this rating press s \n",
            " to exit press e s\n",
            "Please enter your rating 0-5 for ['Postino, Il (1994)']: \n",
            " to skip this rating press s \n",
            " to exit press e s\n",
            "Please enter your rating 0-5 for [\"Mr. Holland's Opus (1995)\"]: \n",
            " to skip this rating press s \n",
            " to exit press e s\n",
            "Please enter your rating 0-5 for ['French Twist (Gazon maudit) (1995)']: \n",
            " to skip this rating press s \n",
            " to exit press e s\n",
            "Please enter your rating 0-5 for ['From Dusk Till Dawn (1996)']: \n",
            " to skip this rating press s \n",
            " to exit press e s\n",
            "Please enter your rating 0-5 for ['White Balloon, The (1995)']: \n",
            " to skip this rating press s \n",
            " to exit press e s\n",
            "Please enter your rating 0-5 for [\"Antonia's Line (1995)\"]: \n",
            " to skip this rating press s \n",
            " to exit press e s\n",
            "Please enter your rating 0-5 for ['Angels and Insects (1995)']: \n",
            " to skip this rating press s \n",
            " to exit press e s\n",
            "Please enter your rating 0-5 for ['Muppet Treasure Island (1996)']: \n",
            " to skip this rating press s \n",
            " to exit press e s\n",
            "Please enter your rating 0-5 for ['Braveheart (1995)']: \n",
            " to skip this rating press s \n",
            " to exit press e 5\n",
            "Please enter your rating 0-5 for ['Taxi Driver (1976)']: \n",
            " to skip this rating press s \n",
            " to exit press e 5\n",
            "Please enter your rating 0-5 for ['Rumble in the Bronx (1995)']: \n",
            " to skip this rating press s \n",
            " to exit press e s\n",
            "Please enter your rating 0-5 for ['Birdcage, The (1996)']: \n",
            " to skip this rating press s \n",
            " to exit press e s\n",
            "Please enter your rating 0-5 for ['Brothers McMullen, The (1995)']: \n",
            " to skip this rating press s \n",
            " to exit press e s\n",
            "Please enter your rating 0-5 for ['Bad Boys (1995)']: \n",
            " to skip this rating press s \n",
            " to exit press e 5\n",
            "Please enter your rating 0-5 for ['Apollo 13 (1995)']: \n",
            " to skip this rating press s \n",
            " to exit press e s\n",
            "Please enter your rating 0-5 for ['Batman Forever (1995)']: \n",
            " to skip this rating press s \n",
            " to exit press e 5\n",
            "Please enter your rating 0-5 for ['Belle de jour (1967)']: \n",
            " to skip this rating press s \n",
            " to exit press e s\n",
            "Please enter your rating 0-5 for ['Crimson Tide (1995)']: \n",
            " to skip this rating press s \n",
            " to exit press e s\n",
            "Please enter your rating 0-5 for ['Crumb (1994)']: \n",
            " to skip this rating press s \n",
            " to exit press e s\n",
            "Please enter your rating 0-5 for ['Desperado (1995)']: \n",
            " to skip this rating press s \n",
            " to exit press e 5\n",
            "Please enter your rating 0-5 for ['Doom Generation, The (1995)']: \n",
            " to skip this rating press s \n",
            " to exit press e s\n",
            "Please enter your rating 0-5 for ['Free Willy 2: The Adventure Home (1995)']: \n",
            " to skip this rating press s \n",
            " to exit press e e\n",
            "\n",
            "\n",
            "Chasers (1994)\n",
            "Ulee's Gold (1997)\n",
            "Larger Than Life (1996)\n",
            "Grosse Fatigue (1994)\n",
            "Joy Luck Club, The (1993)\n",
            "Colonel Chabert, Le (1994)\n",
            "Feast of July (1995)\n",
            "Cats Don't Dance (1997)\n",
            "Double vie de Véronique, La (Double Life of Veronique, The) (1991)\n",
            "Heidi Fleiss: Hollywood Madam (1995) \n",
            "\n",
            "\n",
            "\n",
            " These are the movies user Abhishek would like...\n"
          ],
          "name": "stdout"
        }
      ]
    },
    {
      "metadata": {
        "id": "XLZ3kk51Y3Qi",
        "colab_type": "text"
      },
      "cell_type": "markdown",
      "source": [
        ""
      ]
    }
  ]
}