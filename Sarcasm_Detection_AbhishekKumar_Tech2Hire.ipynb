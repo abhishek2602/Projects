{
  "nbformat": 4,
  "nbformat_minor": 0,
  "metadata": {
    "colab": {
      "name": "Sarcasm_Detection_AbhishekKumar_Tech2Hire.ipynb",
      "version": "0.3.2",
      "provenance": [],
      "collapsed_sections": [],
      "include_colab_link": true
    },
    "kernelspec": {
      "name": "python3",
      "display_name": "Python 3"
    }
  },
  "cells": [
    {
      "cell_type": "markdown",
      "metadata": {
        "id": "view-in-github",
        "colab_type": "text"
      },
      "source": [
        "<a href=\"https://colab.research.google.com/github/abhishek2602/Projects/blob/master/Sarcasm_Detection_AbhishekKumar_Tech2Hire.ipynb\" target=\"_parent\"><img src=\"https://colab.research.google.com/assets/colab-badge.svg\" alt=\"Open In Colab\"/></a>"
      ]
    },
    {
      "metadata": {
        "id": "zLLg1DvMu6uw",
        "colab_type": "text"
      },
      "cell_type": "markdown",
      "source": [
        "# Data Science Use Case - 2 (Sarcasm Detection Classification)\n",
        "## Tech2Hire - Techolution\n",
        "### Abhishek Kumar"
      ]
    },
    {
      "metadata": {
        "id": "oQQRa3DPvA6L",
        "colab_type": "text"
      },
      "cell_type": "markdown",
      "source": [
        "### Importing Libraries and Packages"
      ]
    },
    {
      "metadata": {
        "id": "FeZxpUEuVAo3",
        "colab_type": "code",
        "colab": {}
      },
      "cell_type": "code",
      "source": [
        "import numpy as np\n",
        "import pandas as pd\n",
        "import matplotlib.pyplot as plt\n",
        "import seaborn as sns\n",
        "import sklearn.metrics as metrics\n",
        "from sklearn.utils.fixes import signature\n",
        "\n",
        "%matplotlib inline\n",
        "\n",
        "import re\n",
        "import warnings\n",
        "\n",
        "from sklearn.feature_extraction.text import TfidfTransformer\n",
        "from sklearn.feature_extraction.text import CountVectorizer\n",
        "\n",
        "from textblob import TextBlob\n",
        "import nltk\n",
        "from nltk.corpus import stopwords\n",
        "#nltk.download('brown')\n",
        "#nltk.download('punkt')\n",
        "#nltk.download('stopwords')\n",
        "\n",
        "from sklearn.model_selection import train_test_split\n",
        "from sklearn import naive_bayes\n",
        "from sklearn.ensemble import RandomForestClassifier\n",
        "from sklearn.naive_bayes import MultinomialNB\n",
        "from sklearn.metrics import roc_auc_score\n",
        "from sklearn.model_selection import RandomizedSearchCV"
      ],
      "execution_count": 0,
      "outputs": []
    },
    {
      "metadata": {
        "id": "TPn4nMczvHF4",
        "colab_type": "text"
      },
      "cell_type": "markdown",
      "source": [
        "### Loading The Dataset\n",
        "\n",
        "The code snippet s for loading data into Google Colab using PyDrive."
      ]
    },
    {
      "metadata": {
        "id": "CG2jfC80UWOc",
        "colab_type": "code",
        "outputId": "4b971182-a35c-40e5-f1c8-cfe20cb81726",
        "colab": {
          "base_uri": "https://localhost:8080/",
          "height": 165
        }
      },
      "cell_type": "code",
      "source": [
        "# Code to read csv file into Colaboratory:\n",
        "!pip install -U -q PyDrive\n",
        "from pydrive.auth import GoogleAuth\n",
        "from pydrive.drive import GoogleDrive\n",
        "from google.colab import auth\n",
        "from oauth2client.client import GoogleCredentials\n",
        "\n",
        "# Authenticate and create the PyDrive client.\n",
        "auth.authenticate_user()\n",
        "gauth = GoogleAuth()\n",
        "gauth.credentials = GoogleCredentials.get_application_default()\n",
        "drive = GoogleDrive(gauth)"
      ],
      "execution_count": 0,
      "outputs": [
        {
          "output_type": "stream",
          "text": [
            "\u001b[?25l\r\u001b[K    1% |▎                               | 10kB 18.9MB/s eta 0:00:01\r\u001b[K    2% |▋                               | 20kB 1.9MB/s eta 0:00:01\r\u001b[K    3% |█                               | 30kB 2.7MB/s eta 0:00:01\r\u001b[K    4% |█▎                              | 40kB 1.7MB/s eta 0:00:01\r\u001b[K    5% |█▋                              | 51kB 2.2MB/s eta 0:00:01\r\u001b[K    6% |██                              | 61kB 2.6MB/s eta 0:00:01\r\u001b[K    7% |██▎                             | 71kB 3.0MB/s eta 0:00:01\r\u001b[K    8% |██▋                             | 81kB 3.4MB/s eta 0:00:01\r\u001b[K    9% |███                             | 92kB 3.8MB/s eta 0:00:01\r\u001b[K    10% |███▎                            | 102kB 2.8MB/s eta 0:00:01\r\u001b[K    11% |███▋                            | 112kB 2.9MB/s eta 0:00:01\r\u001b[K    12% |████                            | 122kB 4.0MB/s eta 0:00:01\r\u001b[K    13% |████▎                           | 133kB 4.0MB/s eta 0:00:01\r\u001b[K    14% |████▋                           | 143kB 7.5MB/s eta 0:00:01\r\u001b[K    15% |█████                           | 153kB 7.6MB/s eta 0:00:01\r\u001b[K    16% |█████▎                          | 163kB 7.6MB/s eta 0:00:01\r\u001b[K    17% |█████▋                          | 174kB 7.6MB/s eta 0:00:01\r\u001b[K    18% |██████                          | 184kB 7.7MB/s eta 0:00:01\r\u001b[K    19% |██████▎                         | 194kB 7.7MB/s eta 0:00:01\r\u001b[K    20% |██████▋                         | 204kB 43.6MB/s eta 0:00:01\r\u001b[K    21% |███████                         | 215kB 8.4MB/s eta 0:00:01\r\u001b[K    22% |███████▎                        | 225kB 8.3MB/s eta 0:00:01\r\u001b[K    23% |███████▋                        | 235kB 8.4MB/s eta 0:00:01\r\u001b[K    24% |████████                        | 245kB 8.4MB/s eta 0:00:01\r\u001b[K    25% |████████▎                       | 256kB 8.4MB/s eta 0:00:01\r\u001b[K    26% |████████▋                       | 266kB 8.2MB/s eta 0:00:01\r\u001b[K    27% |█████████                       | 276kB 8.3MB/s eta 0:00:01\r\u001b[K    29% |█████████▎                      | 286kB 8.3MB/s eta 0:00:01\r\u001b[K    30% |█████████▋                      | 296kB 8.3MB/s eta 0:00:01\r\u001b[K    31% |██████████                      | 307kB 8.6MB/s eta 0:00:01\r\u001b[K    32% |██████████▎                     | 317kB 56.1MB/s eta 0:00:01\r\u001b[K    33% |██████████▋                     | 327kB 58.4MB/s eta 0:00:01\r\u001b[K    34% |███████████                     | 337kB 62.5MB/s eta 0:00:01\r\u001b[K    35% |███████████▎                    | 348kB 54.3MB/s eta 0:00:01\r\u001b[K    36% |███████████▋                    | 358kB 52.9MB/s eta 0:00:01\r\u001b[K    37% |████████████                    | 368kB 63.0MB/s eta 0:00:01\r\u001b[K    38% |████████████▎                   | 378kB 64.3MB/s eta 0:00:01\r\u001b[K    39% |████████████▋                   | 389kB 64.8MB/s eta 0:00:01\r\u001b[K    40% |█████████████                   | 399kB 9.4MB/s eta 0:00:01\r\u001b[K    41% |█████████████▎                  | 409kB 9.2MB/s eta 0:00:01\r\u001b[K    42% |█████████████▋                  | 419kB 9.1MB/s eta 0:00:01\r\u001b[K    43% |██████████████                  | 430kB 9.1MB/s eta 0:00:01\r\u001b[K    44% |██████████████▎                 | 440kB 9.0MB/s eta 0:00:01\r\u001b[K    45% |██████████████▋                 | 450kB 9.1MB/s eta 0:00:01\r\u001b[K    46% |███████████████                 | 460kB 9.1MB/s eta 0:00:01\r\u001b[K    47% |███████████████▎                | 471kB 9.0MB/s eta 0:00:01\r\u001b[K    48% |███████████████▋                | 481kB 9.0MB/s eta 0:00:01\r\u001b[K    49% |████████████████                | 491kB 9.0MB/s eta 0:00:01\r\u001b[K    50% |████████████████▎               | 501kB 50.6MB/s eta 0:00:01\r\u001b[K    51% |████████████████▋               | 512kB 51.3MB/s eta 0:00:01\r\u001b[K    52% |█████████████████               | 522kB 52.0MB/s eta 0:00:01\r\u001b[K    53% |█████████████████▎              | 532kB 52.7MB/s eta 0:00:01\r\u001b[K    54% |█████████████████▋              | 542kB 52.9MB/s eta 0:00:01\r\u001b[K    55% |██████████████████              | 552kB 59.3MB/s eta 0:00:01\r\u001b[K    57% |██████████████████▎             | 563kB 60.5MB/s eta 0:00:01\r\u001b[K    58% |██████████████████▋             | 573kB 63.6MB/s eta 0:00:01\r\u001b[K    59% |███████████████████             | 583kB 65.4MB/s eta 0:00:01\r\u001b[K    60% |███████████████████▎            | 593kB 66.3MB/s eta 0:00:01\r\u001b[K    61% |███████████████████▋            | 604kB 66.3MB/s eta 0:00:01\r\u001b[K    62% |████████████████████            | 614kB 74.2MB/s eta 0:00:01\r\u001b[K    63% |████████████████████▎           | 624kB 73.7MB/s eta 0:00:01\r\u001b[K    64% |████████████████████▋           | 634kB 74.6MB/s eta 0:00:01\r\u001b[K    65% |█████████████████████           | 645kB 78.2MB/s eta 0:00:01\r\u001b[K    66% |█████████████████████▎          | 655kB 77.0MB/s eta 0:00:01\r\u001b[K    67% |█████████████████████▋          | 665kB 52.2MB/s eta 0:00:01\r\u001b[K    68% |██████████████████████          | 675kB 51.6MB/s eta 0:00:01\r\u001b[K    69% |██████████████████████▎         | 686kB 51.7MB/s eta 0:00:01\r\u001b[K    70% |██████████████████████▋         | 696kB 51.9MB/s eta 0:00:01\r\u001b[K    71% |███████████████████████         | 706kB 51.5MB/s eta 0:00:01\r\u001b[K    72% |███████████████████████▎        | 716kB 52.1MB/s eta 0:00:01\r\u001b[K    73% |███████████████████████▋        | 727kB 52.0MB/s eta 0:00:01\r\u001b[K    74% |████████████████████████        | 737kB 51.5MB/s eta 0:00:01\r\u001b[K    75% |████████████████████████▎       | 747kB 51.8MB/s eta 0:00:01\r\u001b[K    76% |████████████████████████▋       | 757kB 52.2MB/s eta 0:00:01\r\u001b[K    77% |████████████████████████▉       | 768kB 77.7MB/s eta 0:00:01\r\u001b[K    78% |█████████████████████████▏      | 778kB 79.9MB/s eta 0:00:01\r\u001b[K    79% |█████████████████████████▌      | 788kB 79.4MB/s eta 0:00:01\r\u001b[K    80% |█████████████████████████▉      | 798kB 79.1MB/s eta 0:00:01\r\u001b[K    81% |██████████████████████████▏     | 808kB 14.6MB/s eta 0:00:01\r\u001b[K    82% |██████████████████████████▌     | 819kB 14.4MB/s eta 0:00:01\r\u001b[K    83% |██████████████████████████▉     | 829kB 14.4MB/s eta 0:00:01\r\u001b[K    85% |███████████████████████████▏    | 839kB 14.4MB/s eta 0:00:01\r\u001b[K    86% |███████████████████████████▌    | 849kB 14.4MB/s eta 0:00:01\r\u001b[K    87% |███████████████████████████▉    | 860kB 13.5MB/s eta 0:00:01\r\u001b[K    88% |████████████████████████████▏   | 870kB 13.4MB/s eta 0:00:01\r\u001b[K    89% |████████████████████████████▌   | 880kB 13.4MB/s eta 0:00:01\r\u001b[K    90% |████████████████████████████▉   | 890kB 13.4MB/s eta 0:00:01\r\u001b[K    91% |█████████████████████████████▏  | 901kB 13.4MB/s eta 0:00:01\r\u001b[K    92% |█████████████████████████████▌  | 911kB 52.2MB/s eta 0:00:01\r\u001b[K    93% |█████████████████████████████▉  | 921kB 55.1MB/s eta 0:00:01\r\u001b[K    94% |██████████████████████████████▏ | 931kB 56.2MB/s eta 0:00:01\r\u001b[K    95% |██████████████████████████████▌ | 942kB 56.2MB/s eta 0:00:01\r\u001b[K    96% |██████████████████████████████▉ | 952kB 56.5MB/s eta 0:00:01\r\u001b[K    97% |███████████████████████████████▏| 962kB 75.7MB/s eta 0:00:01\r\u001b[K    98% |███████████████████████████████▌| 972kB 81.4MB/s eta 0:00:01\r\u001b[K    99% |███████████████████████████████▉| 983kB 82.0MB/s eta 0:00:01\r\u001b[K    100% |████████████████████████████████| 993kB 20.6MB/s \n",
            "\u001b[?25h  Building wheel for PyDrive (setup.py) ... \u001b[?25ldone\n",
            "\u001b[?25h"
          ],
          "name": "stdout"
        }
      ]
    },
    {
      "metadata": {
        "id": "oBn43f5nUh6m",
        "colab_type": "code",
        "colab": {}
      },
      "cell_type": "code",
      "source": [
        "link = \"https://drive.google.com/open?id=1pnUi9fDZbALrPmJMEe566oMzHs7FmX3m\"\n",
        "fluff, id = link.split('=')\n",
        "downloaded = drive.CreateFile({'id':id}) \n",
        "downloaded.GetContentFile('train.csv')  \n",
        "test = pd.read_csv('train.csv')"
      ],
      "execution_count": 0,
      "outputs": []
    },
    {
      "metadata": {
        "id": "1etwwcoLUkcB",
        "colab_type": "code",
        "colab": {}
      },
      "cell_type": "code",
      "source": [
        "link = \"https://drive.google.com/open?id=1RHbEhJGvBaplZteCY1YjrKRSOW4SThyF\"\n",
        "fluff, id = link.split('=')\n",
        "downloaded = drive.CreateFile({'id':id}) \n",
        "downloaded.GetContentFile('test.csv')  \n",
        "train = pd.read_csv('test.csv')"
      ],
      "execution_count": 0,
      "outputs": []
    },
    {
      "metadata": {
        "id": "lWpGh3a2vrac",
        "colab_type": "text"
      },
      "cell_type": "markdown",
      "source": [
        "### Exploratory Data Analysis"
      ]
    },
    {
      "metadata": {
        "id": "RpcMzUTsvvC6",
        "colab_type": "text"
      },
      "cell_type": "markdown",
      "source": [
        "Let's have a look at the dataset"
      ]
    },
    {
      "metadata": {
        "id": "bBwVcplBvtdC",
        "colab_type": "code",
        "outputId": "a1a5a699-9c6e-4fd0-c646-dbf21e6c589f",
        "colab": {
          "base_uri": "https://localhost:8080/",
          "height": 204
        }
      },
      "cell_type": "code",
      "source": [
        "train.head()"
      ],
      "execution_count": 0,
      "outputs": [
        {
          "output_type": "execute_result",
          "data": {
            "text/html": [
              "<div>\n",
              "<style scoped>\n",
              "    .dataframe tbody tr th:only-of-type {\n",
              "        vertical-align: middle;\n",
              "    }\n",
              "\n",
              "    .dataframe tbody tr th {\n",
              "        vertical-align: top;\n",
              "    }\n",
              "\n",
              "    .dataframe thead th {\n",
              "        text-align: right;\n",
              "    }\n",
              "</style>\n",
              "<table border=\"1\" class=\"dataframe\">\n",
              "  <thead>\n",
              "    <tr style=\"text-align: right;\">\n",
              "      <th></th>\n",
              "      <th>Unnamed: 0</th>\n",
              "      <th>article_link</th>\n",
              "      <th>headline</th>\n",
              "      <th>is_sarcastic</th>\n",
              "    </tr>\n",
              "  </thead>\n",
              "  <tbody>\n",
              "    <tr>\n",
              "      <th>0</th>\n",
              "      <td>19691</td>\n",
              "      <td>https://local.theonion.com/cat-internally-deba...</td>\n",
              "      <td>cat internally debates whether or not to rip h...</td>\n",
              "      <td>1</td>\n",
              "    </tr>\n",
              "    <tr>\n",
              "      <th>1</th>\n",
              "      <td>17031</td>\n",
              "      <td>https://www.theonion.com/new-college-freshman-...</td>\n",
              "      <td>new college freshman refers to dorm by actual ...</td>\n",
              "      <td>1</td>\n",
              "    </tr>\n",
              "    <tr>\n",
              "      <th>2</th>\n",
              "      <td>8979</td>\n",
              "      <td>https://www.huffingtonpost.com/entry/deputy-br...</td>\n",
              "      <td>viral photo captures incredible moment between...</td>\n",
              "      <td>0</td>\n",
              "    </tr>\n",
              "    <tr>\n",
              "      <th>3</th>\n",
              "      <td>17805</td>\n",
              "      <td>https://www.huffingtonpost.com/entry/limits-or...</td>\n",
              "      <td>limits or limitless?</td>\n",
              "      <td>0</td>\n",
              "    </tr>\n",
              "    <tr>\n",
              "      <th>4</th>\n",
              "      <td>2900</td>\n",
              "      <td>https://entertainment.theonion.com/charlton-he...</td>\n",
              "      <td>charlton heston's gun taken from his cold, dea...</td>\n",
              "      <td>1</td>\n",
              "    </tr>\n",
              "  </tbody>\n",
              "</table>\n",
              "</div>"
            ],
            "text/plain": [
              "   Unnamed: 0                                       article_link  \\\n",
              "0       19691  https://local.theonion.com/cat-internally-deba...   \n",
              "1       17031  https://www.theonion.com/new-college-freshman-...   \n",
              "2        8979  https://www.huffingtonpost.com/entry/deputy-br...   \n",
              "3       17805  https://www.huffingtonpost.com/entry/limits-or...   \n",
              "4        2900  https://entertainment.theonion.com/charlton-he...   \n",
              "\n",
              "                                            headline  is_sarcastic  \n",
              "0  cat internally debates whether or not to rip h...             1  \n",
              "1  new college freshman refers to dorm by actual ...             1  \n",
              "2  viral photo captures incredible moment between...             0  \n",
              "3                               limits or limitless?             0  \n",
              "4  charlton heston's gun taken from his cold, dea...             1  "
            ]
          },
          "metadata": {
            "tags": []
          },
          "execution_count": 5
        }
      ]
    },
    {
      "metadata": {
        "id": "WnVr06R0v0dK",
        "colab_type": "code",
        "outputId": "06555570-36f7-47ad-ecb6-202454fd1b00",
        "colab": {
          "base_uri": "https://localhost:8080/",
          "height": 204
        }
      },
      "cell_type": "code",
      "source": [
        "test.head()"
      ],
      "execution_count": 0,
      "outputs": [
        {
          "output_type": "execute_result",
          "data": {
            "text/html": [
              "<div>\n",
              "<style scoped>\n",
              "    .dataframe tbody tr th:only-of-type {\n",
              "        vertical-align: middle;\n",
              "    }\n",
              "\n",
              "    .dataframe tbody tr th {\n",
              "        vertical-align: top;\n",
              "    }\n",
              "\n",
              "    .dataframe thead th {\n",
              "        text-align: right;\n",
              "    }\n",
              "</style>\n",
              "<table border=\"1\" class=\"dataframe\">\n",
              "  <thead>\n",
              "    <tr style=\"text-align: right;\">\n",
              "      <th></th>\n",
              "      <th>Unnamed: 0</th>\n",
              "      <th>article_link</th>\n",
              "      <th>headline</th>\n",
              "    </tr>\n",
              "  </thead>\n",
              "  <tbody>\n",
              "    <tr>\n",
              "      <th>0</th>\n",
              "      <td>6913</td>\n",
              "      <td>https://www.huffingtonpost.com/entry/paul-ryan...</td>\n",
              "      <td>paul ryan is more of a con man than ever</td>\n",
              "    </tr>\n",
              "    <tr>\n",
              "      <th>1</th>\n",
              "      <td>11611</td>\n",
              "      <td>https://www.huffingtonpost.com/entry/to-breast...</td>\n",
              "      <td>to breast or bottle feed, a woman's choice: le...</td>\n",
              "    </tr>\n",
              "    <tr>\n",
              "      <th>2</th>\n",
              "      <td>25947</td>\n",
              "      <td>https://www.theonion.com/chili-s-introduces-sa...</td>\n",
              "      <td>chili's introduces savory new 200-times-baked ...</td>\n",
              "    </tr>\n",
              "    <tr>\n",
              "      <th>3</th>\n",
              "      <td>24478</td>\n",
              "      <td>https://www.huffingtonpost.com/entry/5-friends...</td>\n",
              "      <td>5 friendship lessons you learned on the playgr...</td>\n",
              "    </tr>\n",
              "    <tr>\n",
              "      <th>4</th>\n",
              "      <td>11863</td>\n",
              "      <td>https://www.huffingtonpost.com/entry/remember-...</td>\n",
              "      <td>remembering high school</td>\n",
              "    </tr>\n",
              "  </tbody>\n",
              "</table>\n",
              "</div>"
            ],
            "text/plain": [
              "   Unnamed: 0                                       article_link  \\\n",
              "0        6913  https://www.huffingtonpost.com/entry/paul-ryan...   \n",
              "1       11611  https://www.huffingtonpost.com/entry/to-breast...   \n",
              "2       25947  https://www.theonion.com/chili-s-introduces-sa...   \n",
              "3       24478  https://www.huffingtonpost.com/entry/5-friends...   \n",
              "4       11863  https://www.huffingtonpost.com/entry/remember-...   \n",
              "\n",
              "                                            headline  \n",
              "0           paul ryan is more of a con man than ever  \n",
              "1  to breast or bottle feed, a woman's choice: le...  \n",
              "2  chili's introduces savory new 200-times-baked ...  \n",
              "3  5 friendship lessons you learned on the playgr...  \n",
              "4                            remembering high school  "
            ]
          },
          "metadata": {
            "tags": []
          },
          "execution_count": 6
        }
      ]
    },
    {
      "metadata": {
        "id": "l1qqS1dnv2GR",
        "colab_type": "code",
        "outputId": "4286730a-163e-437f-a938-f25859a87239",
        "colab": {
          "base_uri": "https://localhost:8080/",
          "height": 51
        }
      },
      "cell_type": "code",
      "source": [
        "# Shape of the dataset\n",
        "print('Training Set: ', train.shape)\n",
        "print('Testing Set: ', test.shape)"
      ],
      "execution_count": 0,
      "outputs": [
        {
          "output_type": "stream",
          "text": [
            "Training Set:  (20031, 4)\n",
            "Testing Set:  (6678, 3)\n"
          ],
          "name": "stdout"
        }
      ]
    },
    {
      "metadata": {
        "id": "FKaigCSI4Jk3",
        "colab_type": "code",
        "outputId": "b3480796-8f4c-4bb4-a4d8-9640d01d4734",
        "colab": {
          "base_uri": "https://localhost:8080/",
          "height": 301
        }
      },
      "cell_type": "code",
      "source": [
        "# Lets see the number of datapoints in each category.\n",
        "sns.countplot(x = 'is_sarcastic', data = train)"
      ],
      "execution_count": 0,
      "outputs": [
        {
          "output_type": "execute_result",
          "data": {
            "text/plain": [
              "<matplotlib.axes._subplots.AxesSubplot at 0x7f5366ef9518>"
            ]
          },
          "metadata": {
            "tags": []
          },
          "execution_count": 8
        },
        {
          "output_type": "display_data",
          "data": {
            "image/png": "[encoded data removed]",
            "text/plain": [
              "<Figure size 432x288 with 1 Axes>"
            ]
          },
          "metadata": {
            "tags": []
          }
        }
      ]
    },
    {
      "metadata": {
        "id": "h2lJSTG65OaJ",
        "colab_type": "code",
        "outputId": "d24a1fc2-208d-40e6-d958-b138402d85a9",
        "colab": {
          "base_uri": "https://localhost:8080/",
          "height": 68
        }
      },
      "cell_type": "code",
      "source": [
        "train['is_sarcastic'].value_counts()"
      ],
      "execution_count": 0,
      "outputs": [
        {
          "output_type": "execute_result",
          "data": {
            "text/plain": [
              "0    11276\n",
              "1     8755\n",
              "Name: is_sarcastic, dtype: int64"
            ]
          },
          "metadata": {
            "tags": []
          },
          "execution_count": 9
        }
      ]
    },
    {
      "metadata": {
        "id": "ZCzzTDBF5Xcv",
        "colab_type": "text"
      },
      "cell_type": "markdown",
      "source": [
        "**Observation:** So we see that the data is spread in 56:44 ratio."
      ]
    },
    {
      "metadata": {
        "id": "fcL94AXZ3jjM",
        "colab_type": "text"
      },
      "cell_type": "markdown",
      "source": [
        "### Statistical Testing"
      ]
    },
    {
      "metadata": {
        "id": "tM3hf0683nMS",
        "colab_type": "text"
      },
      "cell_type": "markdown",
      "source": [
        "Let's figure out the realtion between sentiment analysis and sarcasm classififcation\n"
      ]
    },
    {
      "metadata": {
        "id": "uoPuFLXZ3VEZ",
        "colab_type": "code",
        "outputId": "8273901e-2084-4fa9-f946-6ac1648757d2",
        "colab": {
          "base_uri": "https://localhost:8080/",
          "height": 34
        }
      },
      "cell_type": "code",
      "source": [
        "# Let's clean the data first.\n",
        "\n",
        "train['headline'] = train['headline'].apply(lambda x: re.sub('[!@#$:).;,?&]', '', x.lower()))\n",
        "train['headline'] = train['headline'].apply(lambda x: re.sub('  ', ' ', x))\n",
        "train['headline'][3]"
      ],
      "execution_count": 0,
      "outputs": [
        {
          "output_type": "execute_result",
          "data": {
            "text/plain": [
              "'limits or limitless'"
            ]
          },
          "metadata": {
            "tags": []
          },
          "execution_count": 10
        }
      ]
    },
    {
      "metadata": {
        "id": "iODyXDCL53vU",
        "colab_type": "code",
        "colab": {}
      },
      "cell_type": "code",
      "source": [
        "# Let's classify the datapoints into Happy, Neutral and Sad categories as Sentiments based on their polarity index.\n",
        "\n",
        "train['sentiment'] = train['headline'].apply(lambda x: TextBlob(x).sentiment.polarity)\n",
        "train['sentiment_type'] = ''\n",
        "train.loc[train.sentiment >= 0,'sentiment_type'] = 'HAPPY'\n",
        "train.loc[train.sentiment == 0,'sentiment_type'] = 'NEUTRAL'\n",
        "train.loc[train.sentiment < 0,'sentiment_type'] = 'SAD'"
      ],
      "execution_count": 0,
      "outputs": []
    },
    {
      "metadata": {
        "id": "2OSMMpEg6Cni",
        "colab_type": "code",
        "outputId": "9b13bf5a-157c-48aa-95ce-1451f95406a3",
        "colab": {
          "base_uri": "https://localhost:8080/",
          "height": 289
        }
      },
      "cell_type": "code",
      "source": [
        "train.head()"
      ],
      "execution_count": 0,
      "outputs": [
        {
          "output_type": "execute_result",
          "data": {
            "text/html": [
              "<div>\n",
              "<style scoped>\n",
              "    .dataframe tbody tr th:only-of-type {\n",
              "        vertical-align: middle;\n",
              "    }\n",
              "\n",
              "    .dataframe tbody tr th {\n",
              "        vertical-align: top;\n",
              "    }\n",
              "\n",
              "    .dataframe thead th {\n",
              "        text-align: right;\n",
              "    }\n",
              "</style>\n",
              "<table border=\"1\" class=\"dataframe\">\n",
              "  <thead>\n",
              "    <tr style=\"text-align: right;\">\n",
              "      <th></th>\n",
              "      <th>Unnamed: 0</th>\n",
              "      <th>article_link</th>\n",
              "      <th>headline</th>\n",
              "      <th>is_sarcastic</th>\n",
              "      <th>sentiment</th>\n",
              "      <th>sentiment_type</th>\n",
              "    </tr>\n",
              "  </thead>\n",
              "  <tbody>\n",
              "    <tr>\n",
              "      <th>0</th>\n",
              "      <td>19691</td>\n",
              "      <td>https://local.theonion.com/cat-internally-deba...</td>\n",
              "      <td>cat internally debates whether or not to rip h...</td>\n",
              "      <td>1</td>\n",
              "      <td>0.000000</td>\n",
              "      <td>NEUTRAL</td>\n",
              "    </tr>\n",
              "    <tr>\n",
              "      <th>1</th>\n",
              "      <td>17031</td>\n",
              "      <td>https://www.theonion.com/new-college-freshman-...</td>\n",
              "      <td>new college freshman refers to dorm by actual ...</td>\n",
              "      <td>1</td>\n",
              "      <td>0.068182</td>\n",
              "      <td>HAPPY</td>\n",
              "    </tr>\n",
              "    <tr>\n",
              "      <th>2</th>\n",
              "      <td>8979</td>\n",
              "      <td>https://www.huffingtonpost.com/entry/deputy-br...</td>\n",
              "      <td>viral photo captures incredible moment between...</td>\n",
              "      <td>0</td>\n",
              "      <td>0.900000</td>\n",
              "      <td>HAPPY</td>\n",
              "    </tr>\n",
              "    <tr>\n",
              "      <th>3</th>\n",
              "      <td>17805</td>\n",
              "      <td>https://www.huffingtonpost.com/entry/limits-or...</td>\n",
              "      <td>limits or limitless</td>\n",
              "      <td>0</td>\n",
              "      <td>0.000000</td>\n",
              "      <td>NEUTRAL</td>\n",
              "    </tr>\n",
              "    <tr>\n",
              "      <th>4</th>\n",
              "      <td>2900</td>\n",
              "      <td>https://entertainment.theonion.com/charlton-he...</td>\n",
              "      <td>charlton heston's gun taken from his cold dead...</td>\n",
              "      <td>1</td>\n",
              "      <td>-0.400000</td>\n",
              "      <td>SAD</td>\n",
              "    </tr>\n",
              "  </tbody>\n",
              "</table>\n",
              "</div>"
            ],
            "text/plain": [
              "   Unnamed: 0                                       article_link  \\\n",
              "0       19691  https://local.theonion.com/cat-internally-deba...   \n",
              "1       17031  https://www.theonion.com/new-college-freshman-...   \n",
              "2        8979  https://www.huffingtonpost.com/entry/deputy-br...   \n",
              "3       17805  https://www.huffingtonpost.com/entry/limits-or...   \n",
              "4        2900  https://entertainment.theonion.com/charlton-he...   \n",
              "\n",
              "                                            headline  is_sarcastic  sentiment  \\\n",
              "0  cat internally debates whether or not to rip h...             1   0.000000   \n",
              "1  new college freshman refers to dorm by actual ...             1   0.068182   \n",
              "2  viral photo captures incredible moment between...             0   0.900000   \n",
              "3                                limits or limitless             0   0.000000   \n",
              "4  charlton heston's gun taken from his cold dead...             1  -0.400000   \n",
              "\n",
              "  sentiment_type  \n",
              "0        NEUTRAL  \n",
              "1          HAPPY  \n",
              "2          HAPPY  \n",
              "3        NEUTRAL  \n",
              "4            SAD  "
            ]
          },
          "metadata": {
            "tags": []
          },
          "execution_count": 12
        }
      ]
    },
    {
      "metadata": {
        "id": "-tuMVsgX6WdP",
        "colab_type": "code",
        "outputId": "3e4cf570-2c8c-4ecd-df3e-539ad9c8f6f7",
        "colab": {
          "base_uri": "https://localhost:8080/",
          "height": 433
        }
      },
      "cell_type": "code",
      "source": [
        "sns.factorplot(x = 'is_sarcastic', col = 'sentiment_type', kind = 'count', data = train);"
      ],
      "execution_count": 0,
      "outputs": [
        {
          "output_type": "stream",
          "text": [
            "/usr/local/lib/python3.6/dist-packages/seaborn/categorical.py:3666: UserWarning: The `factorplot` function has been renamed to `catplot`. The original name will be removed in a future release. Please update your code. Note that the default `kind` in `factorplot` (`'point'`) has changed `'strip'` in `catplot`.\n",
            "  warnings.warn(msg)\n"
          ],
          "name": "stderr"
        },
        {
          "output_type": "display_data",
          "data": {
            "image/png": "[encoded data removed]",
            "text/plain": [
              "<Figure size 1080x360 with 3 Axes>"
            ]
          },
          "metadata": {
            "tags": []
          }
        }
      ]
    },
    {
      "metadata": {
        "id": "6tJvQMTL6-1_",
        "colab_type": "text"
      },
      "cell_type": "markdown",
      "source": [
        "**Observation:**\n",
        "\n",
        "*For NEUTRAL Category*, we have approx, 6000 not sarcastic comments and approx 4000 sarcastic comment.\n",
        "\n",
        "*For HAPPY(Positive) Category*, we have approx, 3700 not sarcastic comments and approx 3000 sarcastic comment.\n",
        "\n",
        "*For SAD(Negative) Category*, we have approx, 1900 not sarcastic comments and approx 1900 sarcastic comment.\n",
        "\n",
        "**Inference:** With this distribution it is very difficult to categorize the comments into sarcastic ot not sarcatic comments based on their sentiments categories."
      ]
    },
    {
      "metadata": {
        "id": "vYt3nClF790H",
        "colab_type": "text"
      },
      "cell_type": "markdown",
      "source": [
        "### Data Preparation"
      ]
    },
    {
      "metadata": {
        "id": "IikUfg3X6qek",
        "colab_type": "code",
        "outputId": "51ca0960-ac01-4b89-e0b6-6a93e8291342",
        "colab": {
          "base_uri": "https://localhost:8080/",
          "height": 68
        }
      },
      "cell_type": "code",
      "source": [
        "train.columns"
      ],
      "execution_count": 0,
      "outputs": [
        {
          "output_type": "execute_result",
          "data": {
            "text/plain": [
              "Index(['Unnamed: 0', 'article_link', 'headline', 'is_sarcastic', 'sentiment',\n",
              "       'sentiment_type'],\n",
              "      dtype='object')"
            ]
          },
          "metadata": {
            "tags": []
          },
          "execution_count": 14
        }
      ]
    },
    {
      "metadata": {
        "id": "7PQNsD6Q8lps",
        "colab_type": "code",
        "outputId": "14d9a2a7-7baa-4770-8560-e4020a0c3239",
        "colab": {
          "base_uri": "https://localhost:8080/",
          "height": 34
        }
      },
      "cell_type": "code",
      "source": [
        "test.columns"
      ],
      "execution_count": 0,
      "outputs": [
        {
          "output_type": "execute_result",
          "data": {
            "text/plain": [
              "Index(['Unnamed: 0', 'article_link', 'headline'], dtype='object')"
            ]
          },
          "metadata": {
            "tags": []
          },
          "execution_count": 15
        }
      ]
    },
    {
      "metadata": {
        "id": "9I9PXTyt8C9e",
        "colab_type": "code",
        "colab": {}
      },
      "cell_type": "code",
      "source": [
        "# Deleting the unwanted columns \n",
        "train = train.drop(columns = ['Unnamed: 0', 'article_link', 'sentiment', 'sentiment_type'], axis = 1)\n",
        "\n",
        "# Performing the same operation on test dataset\n",
        "test = test.drop(columns = ['Unnamed: 0', 'article_link'], axis = 1)"
      ],
      "execution_count": 0,
      "outputs": []
    },
    {
      "metadata": {
        "id": "28EepJWq8R38",
        "colab_type": "code",
        "outputId": "04f1edf1-669d-4d76-86ac-37ba99b09395",
        "colab": {
          "base_uri": "https://localhost:8080/",
          "height": 204
        }
      },
      "cell_type": "code",
      "source": [
        "# Lets have a final look at the Dataset\n",
        "train.head()"
      ],
      "execution_count": 0,
      "outputs": [
        {
          "output_type": "execute_result",
          "data": {
            "text/html": [
              "<div>\n",
              "<style scoped>\n",
              "    .dataframe tbody tr th:only-of-type {\n",
              "        vertical-align: middle;\n",
              "    }\n",
              "\n",
              "    .dataframe tbody tr th {\n",
              "        vertical-align: top;\n",
              "    }\n",
              "\n",
              "    .dataframe thead th {\n",
              "        text-align: right;\n",
              "    }\n",
              "</style>\n",
              "<table border=\"1\" class=\"dataframe\">\n",
              "  <thead>\n",
              "    <tr style=\"text-align: right;\">\n",
              "      <th></th>\n",
              "      <th>headline</th>\n",
              "      <th>is_sarcastic</th>\n",
              "    </tr>\n",
              "  </thead>\n",
              "  <tbody>\n",
              "    <tr>\n",
              "      <th>0</th>\n",
              "      <td>cat internally debates whether or not to rip h...</td>\n",
              "      <td>1</td>\n",
              "    </tr>\n",
              "    <tr>\n",
              "      <th>1</th>\n",
              "      <td>new college freshman refers to dorm by actual ...</td>\n",
              "      <td>1</td>\n",
              "    </tr>\n",
              "    <tr>\n",
              "      <th>2</th>\n",
              "      <td>viral photo captures incredible moment between...</td>\n",
              "      <td>0</td>\n",
              "    </tr>\n",
              "    <tr>\n",
              "      <th>3</th>\n",
              "      <td>limits or limitless</td>\n",
              "      <td>0</td>\n",
              "    </tr>\n",
              "    <tr>\n",
              "      <th>4</th>\n",
              "      <td>charlton heston's gun taken from his cold dead...</td>\n",
              "      <td>1</td>\n",
              "    </tr>\n",
              "  </tbody>\n",
              "</table>\n",
              "</div>"
            ],
            "text/plain": [
              "                                            headline  is_sarcastic\n",
              "0  cat internally debates whether or not to rip h...             1\n",
              "1  new college freshman refers to dorm by actual ...             1\n",
              "2  viral photo captures incredible moment between...             0\n",
              "3                                limits or limitless             0\n",
              "4  charlton heston's gun taken from his cold dead...             1"
            ]
          },
          "metadata": {
            "tags": []
          },
          "execution_count": 17
        }
      ]
    },
    {
      "metadata": {
        "id": "u7JYY9WYWx9o",
        "colab_type": "text"
      },
      "cell_type": "markdown",
      "source": [
        "Now, when I do feature engineering using CountVectorization, the number of columns increases in the training dataset. And when I perform the same Countvectorisation on Test dataset, the outcome has different number of columns compared to Training set. Hence I wil concat the training and testing dataset and perform the feature engineering together."
      ]
    },
    {
      "metadata": {
        "id": "7bKT0vysX5tI",
        "colab_type": "code",
        "colab": {}
      },
      "cell_type": "code",
      "source": [
        "train['label'] = 'train'\n",
        "test['label'] = 'test'"
      ],
      "execution_count": 0,
      "outputs": []
    },
    {
      "metadata": {
        "id": "ptwDYDKmYIWl",
        "colab_type": "code",
        "outputId": "929b629b-7bf1-4579-a076-98e2f6daa309",
        "colab": {
          "base_uri": "https://localhost:8080/",
          "height": 204
        }
      },
      "cell_type": "code",
      "source": [
        "test.head()"
      ],
      "execution_count": 0,
      "outputs": [
        {
          "output_type": "execute_result",
          "data": {
            "text/html": [
              "<div>\n",
              "<style scoped>\n",
              "    .dataframe tbody tr th:only-of-type {\n",
              "        vertical-align: middle;\n",
              "    }\n",
              "\n",
              "    .dataframe tbody tr th {\n",
              "        vertical-align: top;\n",
              "    }\n",
              "\n",
              "    .dataframe thead th {\n",
              "        text-align: right;\n",
              "    }\n",
              "</style>\n",
              "<table border=\"1\" class=\"dataframe\">\n",
              "  <thead>\n",
              "    <tr style=\"text-align: right;\">\n",
              "      <th></th>\n",
              "      <th>headline</th>\n",
              "      <th>label</th>\n",
              "    </tr>\n",
              "  </thead>\n",
              "  <tbody>\n",
              "    <tr>\n",
              "      <th>0</th>\n",
              "      <td>paul ryan is more of a con man than ever</td>\n",
              "      <td>test</td>\n",
              "    </tr>\n",
              "    <tr>\n",
              "      <th>1</th>\n",
              "      <td>to breast or bottle feed, a woman's choice: le...</td>\n",
              "      <td>test</td>\n",
              "    </tr>\n",
              "    <tr>\n",
              "      <th>2</th>\n",
              "      <td>chili's introduces savory new 200-times-baked ...</td>\n",
              "      <td>test</td>\n",
              "    </tr>\n",
              "    <tr>\n",
              "      <th>3</th>\n",
              "      <td>5 friendship lessons you learned on the playgr...</td>\n",
              "      <td>test</td>\n",
              "    </tr>\n",
              "    <tr>\n",
              "      <th>4</th>\n",
              "      <td>remembering high school</td>\n",
              "      <td>test</td>\n",
              "    </tr>\n",
              "  </tbody>\n",
              "</table>\n",
              "</div>"
            ],
            "text/plain": [
              "                                            headline label\n",
              "0           paul ryan is more of a con man than ever  test\n",
              "1  to breast or bottle feed, a woman's choice: le...  test\n",
              "2  chili's introduces savory new 200-times-baked ...  test\n",
              "3  5 friendship lessons you learned on the playgr...  test\n",
              "4                            remembering high school  test"
            ]
          },
          "metadata": {
            "tags": []
          },
          "execution_count": 19
        }
      ]
    },
    {
      "metadata": {
        "id": "PnVBnZk4YISp",
        "colab_type": "code",
        "outputId": "9a7fd65d-202f-4703-dd53-5ca7381ecae0",
        "colab": {
          "base_uri": "https://localhost:8080/",
          "height": 173
        }
      },
      "cell_type": "code",
      "source": [
        "concat_df = pd.concat([train , test])"
      ],
      "execution_count": 0,
      "outputs": [
        {
          "output_type": "stream",
          "text": [
            "/usr/local/lib/python3.6/dist-packages/ipykernel_launcher.py:1: FutureWarning: Sorting because non-concatenation axis is not aligned. A future version\n",
            "of pandas will change to not sort by default.\n",
            "\n",
            "To accept the future behavior, pass 'sort=False'.\n",
            "\n",
            "To retain the current behavior and silence the warning, pass 'sort=True'.\n",
            "\n",
            "  \"\"\"Entry point for launching an IPython kernel.\n"
          ],
          "name": "stderr"
        }
      ]
    },
    {
      "metadata": {
        "id": "_3xXshD3YIOx",
        "colab_type": "code",
        "outputId": "2b71c15e-f2c4-4254-b34e-26782ce4fe4f",
        "colab": {
          "base_uri": "https://localhost:8080/",
          "height": 34
        }
      },
      "cell_type": "code",
      "source": [
        "concat_df.shape"
      ],
      "execution_count": 0,
      "outputs": [
        {
          "output_type": "execute_result",
          "data": {
            "text/plain": [
              "(26709, 3)"
            ]
          },
          "metadata": {
            "tags": []
          },
          "execution_count": 21
        }
      ]
    },
    {
      "metadata": {
        "id": "ZBCuCRIRYIHb",
        "colab_type": "code",
        "colab": {}
      },
      "cell_type": "code",
      "source": [
        ""
      ],
      "execution_count": 0,
      "outputs": []
    },
    {
      "metadata": {
        "id": "X2VzqbLbYIDu",
        "colab_type": "code",
        "colab": {}
      },
      "cell_type": "code",
      "source": [
        ""
      ],
      "execution_count": 0,
      "outputs": []
    },
    {
      "metadata": {
        "id": "I9_ekRKbYIAZ",
        "colab_type": "code",
        "colab": {}
      },
      "cell_type": "code",
      "source": [
        ""
      ],
      "execution_count": 0,
      "outputs": []
    },
    {
      "metadata": {
        "id": "AjyKcLI0YH3D",
        "colab_type": "code",
        "colab": {}
      },
      "cell_type": "code",
      "source": [
        ""
      ],
      "execution_count": 0,
      "outputs": []
    },
    {
      "metadata": {
        "id": "bG0JnL-H87fd",
        "colab_type": "text"
      },
      "cell_type": "markdown",
      "source": [
        "### Feature Engineering"
      ]
    },
    {
      "metadata": {
        "id": "gtD79sFgH-8x",
        "colab_type": "text"
      },
      "cell_type": "markdown",
      "source": [
        "**CountVectorizer**\n",
        "\n",
        "The CountVectorizer provides a simple way to both tokenize a collection of text documents and build a vocabulary of known words, but also to encode new documents using that vocabulary."
      ]
    },
    {
      "metadata": {
        "id": "9xAmvlZb8aGD",
        "colab_type": "code",
        "outputId": "219b7cad-ec3c-4e0a-8600-93a362a0bc5f",
        "colab": {
          "base_uri": "https://localhost:8080/",
          "height": 34
        }
      },
      "cell_type": "code",
      "source": [
        "# Extracting features from text files\n",
        "# CountVectorizer\n",
        "\n",
        "count_vect = CountVectorizer()\n",
        "concat_df_counts = count_vect.fit_transform(concat_df.headline)\n",
        "concat_df_counts.shape"
      ],
      "execution_count": 0,
      "outputs": [
        {
          "output_type": "execute_result",
          "data": {
            "text/plain": [
              "(26709, 25409)"
            ]
          },
          "metadata": {
            "tags": []
          },
          "execution_count": 23
        }
      ]
    },
    {
      "metadata": {
        "id": "wY35zcaDIG4j",
        "colab_type": "text"
      },
      "cell_type": "markdown",
      "source": [
        "**TFIDF Tranformerr**\n",
        "\n",
        "Transform a count matrix to a normalized tf or tf-idf representation"
      ]
    },
    {
      "metadata": {
        "id": "GMtCxZC99M7N",
        "colab_type": "code",
        "outputId": "9618761b-c121-4e09-8a3a-7d0f44ef499d",
        "colab": {
          "base_uri": "https://localhost:8080/",
          "height": 34
        }
      },
      "cell_type": "code",
      "source": [
        "# TF-IDF\n",
        "tfidf_transformer = TfidfTransformer()\n",
        "concat_df_tfidf = tfidf_transformer.fit_transform(concat_df_counts)\n",
        "concat_df_tfidf.shape"
      ],
      "execution_count": 0,
      "outputs": [
        {
          "output_type": "execute_result",
          "data": {
            "text/plain": [
              "(26709, 25409)"
            ]
          },
          "metadata": {
            "tags": []
          },
          "execution_count": 24
        }
      ]
    },
    {
      "metadata": {
        "id": "Bj0VAlrmafri",
        "colab_type": "code",
        "colab": {}
      },
      "cell_type": "code",
      "source": [
        "# Splitting the Dataset\n",
        "X = concat_df_tfidf\n",
        "y = np.array(concat_df['label'])\n",
        "a_test = np.where(y == 'test')\n",
        "a_train = np.where(y == 'train')\n",
        "test_mat = X[a_test]\n",
        "train_mat = X[a_train]"
      ],
      "execution_count": 0,
      "outputs": []
    },
    {
      "metadata": {
        "id": "IfzJ3q94-UxM",
        "colab_type": "code",
        "colab": {}
      },
      "cell_type": "code",
      "source": [
        "# Defining the target variable\n",
        "y = train.is_sarcastic"
      ],
      "execution_count": 0,
      "outputs": []
    },
    {
      "metadata": {
        "id": "KcLNo8Bn-FBF",
        "colab_type": "code",
        "colab": {}
      },
      "cell_type": "code",
      "source": [
        "# Training and Validation Split\n",
        "X_train, X_val, y_train, y_val = train_test_split(train_mat, y, test_size = 0.2, random_state = 42)"
      ],
      "execution_count": 0,
      "outputs": []
    },
    {
      "metadata": {
        "id": "ZN-qDrRa-Zm8",
        "colab_type": "code",
        "outputId": "027f19e5-0d31-4888-b709-70e7cd0ffdb7",
        "colab": {
          "base_uri": "https://localhost:8080/",
          "height": 119
        }
      },
      "cell_type": "code",
      "source": [
        "print('Shape of the Train and Validation Data:\\n')\n",
        "print('Training Data: ', X_train.shape)\n",
        "print('Training Data(target): ', y_train.shape)\n",
        "print('Validation Data: ', X_val.shape)\n",
        "print('Validation Data(target): ', y_val.shape)"
      ],
      "execution_count": 0,
      "outputs": [
        {
          "output_type": "stream",
          "text": [
            "Shape of the Train and Validation Data:\n",
            "\n",
            "Training Data:  (16024, 25409)\n",
            "Training Data(target):  (16024,)\n",
            "Validation Data:  (4007, 25409)\n",
            "Validation Data(target):  (4007,)\n"
          ],
          "name": "stdout"
        }
      ]
    },
    {
      "metadata": {
        "id": "959e8R2A9XqE",
        "colab_type": "text"
      },
      "cell_type": "markdown",
      "source": [
        "### ML Algorithms"
      ]
    },
    {
      "metadata": {
        "id": "_fOKtmHZ9dp8",
        "colab_type": "text"
      },
      "cell_type": "markdown",
      "source": [
        "For this classifcaton task, I will be using\n",
        "\n",
        "1. Naive Bayes Classifer\n",
        "2. Random Forest Classifer\n",
        "\n",
        "And then based on their ROC_AUC_Score, I will chosse the best Model."
      ]
    },
    {
      "metadata": {
        "id": "q1l0XtOA9tZR",
        "colab_type": "text"
      },
      "cell_type": "markdown",
      "source": [
        "**1. Naive Bayes Classifier**"
      ]
    },
    {
      "metadata": {
        "id": "dT9Xtxi5JE73",
        "colab_type": "text"
      },
      "cell_type": "markdown",
      "source": [
        "Naive Bayes classifiers are a collection of classification algorithms based on Bayes’ Theorem. It is not a single algorithm but a family of algorithms where all of them share a common principle, i.e. every pair of features being classified is independent of each other.\n",
        "\n",
        "The multinomial Naive Bayes classifier is suitable for classification with discrete features (e.g., word counts for text classification). The multinomial distribution normally requires integer feature counts. However, in practice, fractional counts such as tf-idf may also work."
      ]
    },
    {
      "metadata": {
        "id": "AMNt8a8m9Spt",
        "colab_type": "code",
        "colab": {}
      },
      "cell_type": "code",
      "source": [
        "NB_clf = MultinomialNB().fit(train_mat, y)"
      ],
      "execution_count": 0,
      "outputs": []
    },
    {
      "metadata": {
        "id": "aATW5APR_BgE",
        "colab_type": "code",
        "colab": {}
      },
      "cell_type": "code",
      "source": [
        "NB_predicted = NB_clf.predict(X_val)"
      ],
      "execution_count": 0,
      "outputs": []
    },
    {
      "metadata": {
        "id": "y54utRnKHaAQ",
        "colab_type": "code",
        "outputId": "08dcd11a-83e8-40fd-ca24-5cc6676a8477",
        "colab": {
          "base_uri": "https://localhost:8080/",
          "height": 51
        }
      },
      "cell_type": "code",
      "source": [
        "metrics.confusion_matrix(y_val, NB_predicted)"
      ],
      "execution_count": 0,
      "outputs": [
        {
          "output_type": "execute_result",
          "data": {
            "text/plain": [
              "array([[2162,   31],\n",
              "       [ 349, 1465]])"
            ]
          },
          "metadata": {
            "tags": []
          },
          "execution_count": 34
        }
      ]
    },
    {
      "metadata": {
        "id": "xP-BEboQBmS7",
        "colab_type": "code",
        "outputId": "0c87b8e8-9dac-4c18-e4ca-a8d778dcad2a",
        "colab": {
          "base_uri": "https://localhost:8080/",
          "height": 170
        }
      },
      "cell_type": "code",
      "source": [
        "NB_cr = metrics.classification_report(y_val, NB_predicted)\n",
        "print(NB_cr)"
      ],
      "execution_count": 0,
      "outputs": [
        {
          "output_type": "stream",
          "text": [
            "              precision    recall  f1-score   support\n",
            "\n",
            "           0       0.86      0.99      0.92      2193\n",
            "           1       0.98      0.81      0.89      1814\n",
            "\n",
            "   micro avg       0.91      0.91      0.91      4007\n",
            "   macro avg       0.92      0.90      0.90      4007\n",
            "weighted avg       0.91      0.91      0.90      4007\n",
            "\n"
          ],
          "name": "stdout"
        }
      ]
    },
    {
      "metadata": {
        "id": "s5-9NlhwGsur",
        "colab_type": "text"
      },
      "cell_type": "markdown",
      "source": [
        "**Inference:** \n",
        "\n",
        "\n",
        "*   92% of positive identifications was actually correct.\n",
        "*   91% of actual positives was identified correctly.\n",
        "\n"
      ]
    },
    {
      "metadata": {
        "id": "Cys_ZfYu_frI",
        "colab_type": "text"
      },
      "cell_type": "markdown",
      "source": [
        "**2. Random Forest Classifier**"
      ]
    },
    {
      "metadata": {
        "id": "VXifPnF_Jogk",
        "colab_type": "text"
      },
      "cell_type": "markdown",
      "source": [
        "A random forest is a meta estimator that fits a number of decision tree classifiers on various sub-samples of the dataset and uses averaging to improve the predictive accuracy and control over-fitting. The sub-sample size is always the same as the original input sample size but the samples are drawn with replacement if bootstrap=True (default)."
      ]
    },
    {
      "metadata": {
        "id": "i0jn6uVL_e2n",
        "colab_type": "code",
        "outputId": "6636adea-3d21-4e9c-f9eb-ead0d4d63c84",
        "colab": {
          "base_uri": "https://localhost:8080/",
          "height": 86
        }
      },
      "cell_type": "code",
      "source": [
        "RF_clf = RandomForestClassifier().fit(train_mat, y)"
      ],
      "execution_count": 0,
      "outputs": [
        {
          "output_type": "stream",
          "text": [
            "/usr/local/lib/python3.6/dist-packages/sklearn/ensemble/forest.py:246: FutureWarning: The default value of n_estimators will change from 10 in version 0.20 to 100 in 0.22.\n",
            "  \"10 in version 0.20 to 100 in 0.22.\", FutureWarning)\n"
          ],
          "name": "stderr"
        }
      ]
    },
    {
      "metadata": {
        "id": "4a72JecI_QNa",
        "colab_type": "code",
        "colab": {}
      },
      "cell_type": "code",
      "source": [
        "RF_predicted = RF_clf.predict(X_val)"
      ],
      "execution_count": 0,
      "outputs": []
    },
    {
      "metadata": {
        "id": "nZ7Na5GRHhxf",
        "colab_type": "code",
        "outputId": "1fe07378-a72a-47a8-d830-19676654bb31",
        "colab": {
          "base_uri": "https://localhost:8080/",
          "height": 51
        }
      },
      "cell_type": "code",
      "source": [
        "metrics.confusion_matrix(y_val, RF_predicted)"
      ],
      "execution_count": 0,
      "outputs": [
        {
          "output_type": "execute_result",
          "data": {
            "text/plain": [
              "array([[2182,   11],\n",
              "       [  30, 1784]])"
            ]
          },
          "metadata": {
            "tags": []
          },
          "execution_count": 40
        }
      ]
    },
    {
      "metadata": {
        "id": "EXCTFoSYCzEM",
        "colab_type": "code",
        "outputId": "79d00a28-dd8c-4472-875c-32e3572c7930",
        "colab": {
          "base_uri": "https://localhost:8080/",
          "height": 170
        }
      },
      "cell_type": "code",
      "source": [
        "RF_cr = metrics.classification_report(y_val, RF_predicted)\n",
        "print(RF_cr)"
      ],
      "execution_count": 0,
      "outputs": [
        {
          "output_type": "stream",
          "text": [
            "              precision    recall  f1-score   support\n",
            "\n",
            "           0       0.99      0.99      0.99      2193\n",
            "           1       0.99      0.98      0.99      1814\n",
            "\n",
            "   micro avg       0.99      0.99      0.99      4007\n",
            "   macro avg       0.99      0.99      0.99      4007\n",
            "weighted avg       0.99      0.99      0.99      4007\n",
            "\n"
          ],
          "name": "stdout"
        }
      ]
    },
    {
      "metadata": {
        "id": "xrpembs9HCHf",
        "colab_type": "text"
      },
      "cell_type": "markdown",
      "source": [
        "**Inference:** \n",
        "\n",
        "\n",
        "*   99% of positive identifications was actually correct.\n",
        "*   99% of actual positives was identified correctly.\n",
        "\n",
        "\n"
      ]
    },
    {
      "metadata": {
        "id": "-L5tHVsY_8o7",
        "colab_type": "text"
      },
      "cell_type": "markdown",
      "source": [
        "### ROC_AUC Graph"
      ]
    },
    {
      "metadata": {
        "id": "vbBzx_SG_6_k",
        "colab_type": "code",
        "outputId": "4e2ef462-306f-48b3-c3d8-3da6f0ca08be",
        "colab": {
          "base_uri": "https://localhost:8080/",
          "height": 295
        }
      },
      "cell_type": "code",
      "source": [
        "# calculate the fpr and tpr for all thresholds of the classification\n",
        "probs = NB_clf.predict_proba(X_val)\n",
        "preds = probs[:,1]\n",
        "fpr, tpr, threshold = metrics.roc_curve(y_val, preds)\n",
        "roc_auc = metrics.auc(fpr, tpr)\n",
        "\n",
        "plt.title('Receiver Operating Characteristic (Naive Bayes Classifier)')\n",
        "plt.plot(fpr, tpr, 'b', label = 'AUC = %0.2f' % roc_auc)\n",
        "plt.legend(loc = 'lower right')\n",
        "plt.plot([0, 1], [0, 1],'r--')\n",
        "plt.xlim([0, 1])\n",
        "plt.ylim([0, 1])\n",
        "plt.ylabel('True Positive Rate')\n",
        "plt.xlabel('False Positive Rate')\n",
        "plt.show()"
      ],
      "execution_count": 0,
      "outputs": [
        {
          "output_type": "display_data",
          "data": {
            "image/png": "[encoded data removed]",
            "text/plain": [
              "<Figure size 432x288 with 1 Axes>"
            ]
          },
          "metadata": {
            "tags": []
          }
        }
      ]
    },
    {
      "metadata": {
        "id": "_WEB8R2aAxeK",
        "colab_type": "code",
        "outputId": "d638178b-c100-454d-8c2b-809ab99ccc13",
        "colab": {
          "base_uri": "https://localhost:8080/",
          "height": 295
        }
      },
      "cell_type": "code",
      "source": [
        "# calculate the fpr and tpr for all thresholds of the classification\n",
        "probs = RF_clf.predict_proba(X_val)\n",
        "preds = probs[:,1]\n",
        "fpr, tpr, threshold = metrics.roc_curve(y_val, preds)\n",
        "roc_auc = metrics.auc(fpr, tpr)\n",
        "\n",
        "plt.title('Receiver Operating Characteristic (Random Forest Classifier)')\n",
        "plt.plot(fpr, tpr, 'b', label = 'AUC = %0.2f' % roc_auc)\n",
        "plt.legend(loc = 'lower right')\n",
        "plt.plot([0, 1], [0, 1],'r--')\n",
        "plt.xlim([0, 1])\n",
        "plt.ylim([0, 1])\n",
        "plt.ylabel('True Positive Rate')\n",
        "plt.xlabel('False Positive Rate')\n",
        "plt.show()"
      ],
      "execution_count": 0,
      "outputs": [
        {
          "output_type": "display_data",
          "data": {
            "image/png": "[encoded data removed]",
            "text/plain": [
              "<Figure size 432x288 with 1 Axes>"
            ]
          },
          "metadata": {
            "tags": []
          }
        }
      ]
    },
    {
      "metadata": {
        "id": "FAHMnD7YTnm7",
        "colab_type": "text"
      },
      "cell_type": "markdown",
      "source": [
        "***With this, we conclude that Random Forest Classifier is best suitted for this dataset.***"
      ]
    },
    {
      "metadata": {
        "id": "60NHf1-rTf5s",
        "colab_type": "text"
      },
      "cell_type": "markdown",
      "source": [
        "### Test dataset"
      ]
    },
    {
      "metadata": {
        "id": "0NqmHbffUb33",
        "colab_type": "text"
      },
      "cell_type": "markdown",
      "source": [
        "Now let's run the Random Forest Clasifier to the test dataset"
      ]
    },
    {
      "metadata": {
        "id": "FZiw_mrnBD5G",
        "colab_type": "code",
        "colab": {}
      },
      "cell_type": "code",
      "source": [
        "RF_test_predicted = RF_clf.predict(test_mat)"
      ],
      "execution_count": 0,
      "outputs": []
    },
    {
      "metadata": {
        "id": "FhnKIYf8UyuG",
        "colab_type": "code",
        "outputId": "640553ba-c6d2-4a35-d607-d2320b3bc8d6",
        "colab": {
          "base_uri": "https://localhost:8080/",
          "height": 34
        }
      },
      "cell_type": "code",
      "source": [
        "RF_test_predicted"
      ],
      "execution_count": 0,
      "outputs": [
        {
          "output_type": "execute_result",
          "data": {
            "text/plain": [
              "array([1, 1, 1, ..., 1, 1, 0])"
            ]
          },
          "metadata": {
            "tags": []
          },
          "execution_count": 45
        }
      ]
    },
    {
      "metadata": {
        "id": "uOhAEA3pd58N",
        "colab_type": "code",
        "colab": {}
      },
      "cell_type": "code",
      "source": [
        "test = test.drop(columns = ['label'], axis = 1)"
      ],
      "execution_count": 0,
      "outputs": []
    },
    {
      "metadata": {
        "id": "YPRgUvQcell_",
        "colab_type": "code",
        "colab": {}
      },
      "cell_type": "code",
      "source": [
        "test['prediction'] = RF_test_predicted"
      ],
      "execution_count": 0,
      "outputs": []
    },
    {
      "metadata": {
        "id": "BMIKJTRjfLIS",
        "colab_type": "code",
        "outputId": "8745fccd-f898-4c38-b979-08ab6a5543c7",
        "colab": {
          "base_uri": "https://localhost:8080/",
          "height": 204
        }
      },
      "cell_type": "code",
      "source": [
        "test.head()"
      ],
      "execution_count": 0,
      "outputs": [
        {
          "output_type": "execute_result",
          "data": {
            "text/html": [
              "<div>\n",
              "<style scoped>\n",
              "    .dataframe tbody tr th:only-of-type {\n",
              "        vertical-align: middle;\n",
              "    }\n",
              "\n",
              "    .dataframe tbody tr th {\n",
              "        vertical-align: top;\n",
              "    }\n",
              "\n",
              "    .dataframe thead th {\n",
              "        text-align: right;\n",
              "    }\n",
              "</style>\n",
              "<table border=\"1\" class=\"dataframe\">\n",
              "  <thead>\n",
              "    <tr style=\"text-align: right;\">\n",
              "      <th></th>\n",
              "      <th>headline</th>\n",
              "      <th>prediction</th>\n",
              "    </tr>\n",
              "  </thead>\n",
              "  <tbody>\n",
              "    <tr>\n",
              "      <th>0</th>\n",
              "      <td>paul ryan is more of a con man than ever</td>\n",
              "      <td>1</td>\n",
              "    </tr>\n",
              "    <tr>\n",
              "      <th>1</th>\n",
              "      <td>to breast or bottle feed, a woman's choice: le...</td>\n",
              "      <td>1</td>\n",
              "    </tr>\n",
              "    <tr>\n",
              "      <th>2</th>\n",
              "      <td>chili's introduces savory new 200-times-baked ...</td>\n",
              "      <td>1</td>\n",
              "    </tr>\n",
              "    <tr>\n",
              "      <th>3</th>\n",
              "      <td>5 friendship lessons you learned on the playgr...</td>\n",
              "      <td>0</td>\n",
              "    </tr>\n",
              "    <tr>\n",
              "      <th>4</th>\n",
              "      <td>remembering high school</td>\n",
              "      <td>0</td>\n",
              "    </tr>\n",
              "  </tbody>\n",
              "</table>\n",
              "</div>"
            ],
            "text/plain": [
              "                                            headline  prediction\n",
              "0           paul ryan is more of a con man than ever           1\n",
              "1  to breast or bottle feed, a woman's choice: le...           1\n",
              "2  chili's introduces savory new 200-times-baked ...           1\n",
              "3  5 friendship lessons you learned on the playgr...           0\n",
              "4                            remembering high school           0"
            ]
          },
          "metadata": {
            "tags": []
          },
          "execution_count": 51
        }
      ]
    },
    {
      "metadata": {
        "id": "cJtWAft5fMSg",
        "colab_type": "code",
        "colab": {}
      },
      "cell_type": "code",
      "source": [
        ""
      ],
      "execution_count": 0,
      "outputs": []
    }
  ]
}