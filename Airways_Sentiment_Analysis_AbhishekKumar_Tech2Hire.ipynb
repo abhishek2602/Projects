{
  "nbformat": 4,
  "nbformat_minor": 0,
  "metadata": {
    "colab": {
      "name": "Airways_Sentiment_Analysis_AbhishekKumar_Tech2Hire.ipynb",
      "version": "0.3.2",
      "provenance": [],
      "collapsed_sections": [],
      "include_colab_link": true
    },
    "kernelspec": {
      "name": "python3",
      "display_name": "Python 3"
    }
  },
  "cells": [
    {
      "cell_type": "markdown",
      "metadata": {
        "id": "view-in-github",
        "colab_type": "text"
      },
      "source": [
        "<a href=\"https://colab.research.google.com/github/abhishek2602/Projects/blob/master/Airways_Sentiment_Analysis_AbhishekKumar_Tech2Hire.ipynb\" target=\"_parent\"><img src=\"https://colab.research.google.com/assets/colab-badge.svg\" alt=\"Open In Colab\"/></a>"
      ]
    },
    {
      "metadata": {
        "id": "IvOcp_PRm_1l",
        "colab_type": "text"
      },
      "cell_type": "markdown",
      "source": [
        "# Data Science Use Case - 1 (Airways Tweets Sentimental Analysis)\n",
        "## Tech2Hire - Techolution\n",
        "### Abhishek Kumar"
      ]
    },
    {
      "metadata": {
        "id": "Er2Nd27SnNC_",
        "colab_type": "text"
      },
      "cell_type": "markdown",
      "source": [
        "### Loading the required Libraries and Packages"
      ]
    },
    {
      "metadata": {
        "id": "PahhrmkPlSwl",
        "colab_type": "text"
      },
      "cell_type": "markdown",
      "source": [
        "In this section we are going to focus on the most important part of the analysis. In general rule the tweet are composed by several strings that we have to clean before working correctly with the data. I have separated the importation of package into three parts. As usual Numpy and Pandas are part of our toolbox.\n",
        "\n",
        "For the visualisation we use Seaborn, Matplotlib. In order to clean our data (text) and to do the sentiment analysis the most common library is NLTK. NLTK is a leading platform Python programs to work with human language data."
      ]
    },
    {
      "metadata": {
        "id": "31i7XCSEWSsB",
        "colab_type": "code",
        "outputId": "9a866e58-be51-47ef-c4bd-f340b822eaa8",
        "colab": {
          "base_uri": "https://localhost:8080/",
          "height": 137
        }
      },
      "cell_type": "code",
      "source": [
        "import numpy as np\n",
        "import pandas as pd\n",
        "import re\n",
        "import warnings\n",
        "\n",
        "#Visualisation\n",
        "import matplotlib.pyplot as plt\n",
        "import matplotlib\n",
        "import seaborn as sns\n",
        "from IPython.display import display\n",
        "\n",
        "from sklearn.feature_extraction.text import TfidfVectorizer\n",
        "\n",
        "from nltk.stem import WordNetLemmatizer\n",
        "from nltk.sentiment.vader import SentimentIntensityAnalyzer\n",
        "from nltk.sentiment.util import *\n",
        "from nltk import tokenize\n",
        "nltk.download('wordnet')\n",
        "nltk.download('vader_lexicon')\n",
        "\n",
        "matplotlib.style.use('ggplot')\n",
        "pd.options.mode.chained_assignment = None\n",
        "warnings.filterwarnings(\"ignore\")\n",
        "\n",
        "%matplotlib inline\n"
      ],
      "execution_count": 0,
      "outputs": [
        {
          "output_type": "stream",
          "text": [
            "/usr/local/lib/python3.6/dist-packages/nltk/twitter/__init__.py:20: UserWarning: The twython library has not been installed. Some functionality from the twitter package will not be available.\n",
            "  warnings.warn(\"The twython library has not been installed. \"\n"
          ],
          "name": "stderr"
        },
        {
          "output_type": "stream",
          "text": [
            "[nltk_data] Downloading package wordnet to /root/nltk_data...\n",
            "[nltk_data]   Unzipping corpora/wordnet.zip.\n",
            "[nltk_data] Downloading package vader_lexicon to /root/nltk_data...\n"
          ],
          "name": "stdout"
        }
      ]
    },
    {
      "metadata": {
        "id": "yLvR_km0nYnA",
        "colab_type": "text"
      },
      "cell_type": "markdown",
      "source": [
        "### Loading the Dataset"
      ]
    },
    {
      "metadata": {
        "id": "iPIq1xZ7lgZn",
        "colab_type": "text"
      },
      "cell_type": "markdown",
      "source": [
        "This code snipit is for loading the data in Google Colab using PyDrive."
      ]
    },
    {
      "metadata": {
        "id": "qLQ8qEoBWa9e",
        "colab_type": "code",
        "outputId": "d61ccc1c-a6d1-4d65-c0cc-7d70fb064584",
        "colab": {
          "base_uri": "https://localhost:8080/",
          "height": 165
        }
      },
      "cell_type": "code",
      "source": [
        "# Code to read csv file into Colaboratory:\n",
        "!pip install -U -q PyDrive\n",
        "from pydrive.auth import GoogleAuth\n",
        "from pydrive.drive import GoogleDrive\n",
        "from google.colab import auth\n",
        "from oauth2client.client import GoogleCredentials\n",
        "\n",
        "# Authenticate and create the PyDrive client.\n",
        "auth.authenticate_user()\n",
        "gauth = GoogleAuth()\n",
        "gauth.credentials = GoogleCredentials.get_application_default()\n",
        "drive = GoogleDrive(gauth)"
      ],
      "execution_count": 0,
      "outputs": [
        {
          "output_type": "stream",
          "text": [
            "\u001b[?25l\r\u001b[K    1% |▎                               | 10kB 20.1MB/s eta 0:00:01\r\u001b[K    2% |▋                               | 20kB 1.8MB/s eta 0:00:01\r\u001b[K    3% |█                               | 30kB 2.6MB/s eta 0:00:01\r\u001b[K    4% |█▎                              | 40kB 1.7MB/s eta 0:00:01\r\u001b[K    5% |█▋                              | 51kB 2.1MB/s eta 0:00:01\r\u001b[K    6% |██                              | 61kB 2.6MB/s eta 0:00:01\r\u001b[K    7% |██▎                             | 71kB 2.9MB/s eta 0:00:01\r\u001b[K    8% |██▋                             | 81kB 3.3MB/s eta 0:00:01\r\u001b[K    9% |███                             | 92kB 3.7MB/s eta 0:00:01\r\u001b[K    10% |███▎                            | 102kB 2.8MB/s eta 0:00:01\r\u001b[K    11% |███▋                            | 112kB 2.8MB/s eta 0:00:01\r\u001b[K    12% |████                            | 122kB 4.0MB/s eta 0:00:01\r\u001b[K    13% |████▎                           | 133kB 4.0MB/s eta 0:00:01\r\u001b[K    14% |████▋                           | 143kB 7.4MB/s eta 0:00:01\r\u001b[K    15% |█████                           | 153kB 7.5MB/s eta 0:00:01\r\u001b[K    16% |█████▎                          | 163kB 7.5MB/s eta 0:00:01\r\u001b[K    17% |█████▋                          | 174kB 7.5MB/s eta 0:00:01\r\u001b[K    18% |██████                          | 184kB 7.5MB/s eta 0:00:01\r\u001b[K    19% |██████▎                         | 194kB 7.5MB/s eta 0:00:01\r\u001b[K    20% |██████▋                         | 204kB 36.0MB/s eta 0:00:01\r\u001b[K    21% |███████                         | 215kB 8.4MB/s eta 0:00:01\r\u001b[K    22% |███████▎                        | 225kB 8.4MB/s eta 0:00:01\r\u001b[K    23% |███████▋                        | 235kB 8.5MB/s eta 0:00:01\r\u001b[K    24% |████████                        | 245kB 8.5MB/s eta 0:00:01\r\u001b[K    25% |████████▎                       | 256kB 8.5MB/s eta 0:00:01\r\u001b[K    26% |████████▋                       | 266kB 8.2MB/s eta 0:00:01\r\u001b[K    27% |█████████                       | 276kB 8.3MB/s eta 0:00:01\r\u001b[K    29% |█████████▎                      | 286kB 8.3MB/s eta 0:00:01\r\u001b[K    30% |█████████▋                      | 296kB 8.3MB/s eta 0:00:01\r\u001b[K    31% |██████████                      | 307kB 8.6MB/s eta 0:00:01\r\u001b[K    32% |██████████▎                     | 317kB 43.3MB/s eta 0:00:01\r\u001b[K    33% |██████████▋                     | 327kB 46.4MB/s eta 0:00:01\r\u001b[K    34% |███████████                     | 337kB 48.7MB/s eta 0:00:01\r\u001b[K    35% |███████████▎                    | 348kB 42.7MB/s eta 0:00:01\r\u001b[K    36% |███████████▋                    | 358kB 42.1MB/s eta 0:00:01\r\u001b[K    37% |████████████                    | 368kB 52.2MB/s eta 0:00:01\r\u001b[K    38% |████████████▎                   | 378kB 53.1MB/s eta 0:00:01\r\u001b[K    39% |████████████▋                   | 389kB 54.0MB/s eta 0:00:01\r\u001b[K    40% |█████████████                   | 399kB 9.9MB/s eta 0:00:01\r\u001b[K    41% |█████████████▎                  | 409kB 9.7MB/s eta 0:00:01\r\u001b[K    42% |█████████████▋                  | 419kB 9.6MB/s eta 0:00:01\r\u001b[K    43% |██████████████                  | 430kB 9.6MB/s eta 0:00:01\r\u001b[K    44% |██████████████▎                 | 440kB 9.6MB/s eta 0:00:01\r\u001b[K    45% |██████████████▋                 | 450kB 9.7MB/s eta 0:00:01\r\u001b[K    46% |███████████████                 | 460kB 9.7MB/s eta 0:00:01\r\u001b[K    47% |███████████████▎                | 471kB 9.7MB/s eta 0:00:01\r\u001b[K    48% |███████████████▋                | 481kB 9.7MB/s eta 0:00:01\r\u001b[K    49% |████████████████                | 491kB 9.7MB/s eta 0:00:01\r\u001b[K    50% |████████████████▎               | 501kB 50.5MB/s eta 0:00:01\r\u001b[K    51% |████████████████▋               | 512kB 48.8MB/s eta 0:00:01\r\u001b[K    52% |█████████████████               | 522kB 51.4MB/s eta 0:00:01\r\u001b[K    53% |█████████████████▎              | 532kB 52.5MB/s eta 0:00:01\r\u001b[K    54% |█████████████████▋              | 542kB 8.9MB/s eta 0:00:01\r\u001b[K    55% |██████████████████              | 552kB 8.9MB/s eta 0:00:01\r\u001b[K    57% |██████████████████▎             | 563kB 8.9MB/s eta 0:00:01\r\u001b[K    58% |██████████████████▋             | 573kB 8.9MB/s eta 0:00:01\r\u001b[K    59% |███████████████████             | 583kB 8.9MB/s eta 0:00:01\r\u001b[K    60% |███████████████████▎            | 593kB 8.9MB/s eta 0:00:01\r\u001b[K    61% |███████████████████▋            | 604kB 8.8MB/s eta 0:00:01\r\u001b[K    62% |████████████████████            | 614kB 9.0MB/s eta 0:00:01\r\u001b[K    63% |████████████████████▎           | 624kB 9.1MB/s eta 0:00:01\r\u001b[K    64% |████████████████████▋           | 634kB 9.1MB/s eta 0:00:01\r\u001b[K    65% |█████████████████████           | 645kB 61.1MB/s eta 0:00:01\r\u001b[K    66% |█████████████████████▎          | 655kB 69.2MB/s eta 0:00:01\r\u001b[K    67% |█████████████████████▋          | 665kB 48.9MB/s eta 0:00:01\r\u001b[K    68% |██████████████████████          | 675kB 49.3MB/s eta 0:00:01\r\u001b[K    69% |██████████████████████▎         | 686kB 49.8MB/s eta 0:00:01\r\u001b[K    70% |██████████████████████▋         | 696kB 49.7MB/s eta 0:00:01\r\u001b[K    71% |███████████████████████         | 706kB 50.2MB/s eta 0:00:01\r\u001b[K    72% |███████████████████████▎        | 716kB 50.7MB/s eta 0:00:01\r\u001b[K    73% |███████████████████████▋        | 727kB 51.0MB/s eta 0:00:01\r\u001b[K    74% |████████████████████████        | 737kB 50.7MB/s eta 0:00:01\r\u001b[K    75% |████████████████████████▎       | 747kB 51.3MB/s eta 0:00:01\r\u001b[K    76% |████████████████████████▋       | 757kB 51.2MB/s eta 0:00:01\r\u001b[K    77% |████████████████████████▉       | 768kB 79.0MB/s eta 0:00:01\r\u001b[K    78% |█████████████████████████▏      | 778kB 79.4MB/s eta 0:00:01\r\u001b[K    79% |█████████████████████████▌      | 788kB 77.8MB/s eta 0:00:01\r\u001b[K    80% |█████████████████████████▉      | 798kB 78.9MB/s eta 0:00:01\r\u001b[K    81% |██████████████████████████▏     | 808kB 80.0MB/s eta 0:00:01\r\u001b[K    82% |██████████████████████████▌     | 819kB 79.0MB/s eta 0:00:01\r\u001b[K    83% |██████████████████████████▉     | 829kB 79.4MB/s eta 0:00:01\r\u001b[K    85% |███████████████████████████▏    | 839kB 79.6MB/s eta 0:00:01\r\u001b[K    86% |███████████████████████████▌    | 849kB 79.5MB/s eta 0:00:01\r\u001b[K    87% |███████████████████████████▉    | 860kB 62.2MB/s eta 0:00:01\r\u001b[K    88% |████████████████████████████▏   | 870kB 60.4MB/s eta 0:00:01\r\u001b[K    89% |████████████████████████████▌   | 880kB 61.8MB/s eta 0:00:01\r\u001b[K    90% |████████████████████████████▉   | 890kB 62.6MB/s eta 0:00:01\r\u001b[K    91% |█████████████████████████████▏  | 901kB 62.4MB/s eta 0:00:01\r\u001b[K    92% |█████████████████████████████▌  | 911kB 61.2MB/s eta 0:00:01\r\u001b[K    93% |█████████████████████████████▉  | 921kB 61.5MB/s eta 0:00:01\r\u001b[K    94% |██████████████████████████████▏ | 931kB 61.8MB/s eta 0:00:01\r\u001b[K    95% |██████████████████████████████▌ | 942kB 61.7MB/s eta 0:00:01\r\u001b[K    96% |██████████████████████████████▉ | 952kB 61.0MB/s eta 0:00:01\r\u001b[K    97% |███████████████████████████████▏| 962kB 79.2MB/s eta 0:00:01\r\u001b[K    98% |███████████████████████████████▌| 972kB 82.3MB/s eta 0:00:01\r\u001b[K    99% |███████████████████████████████▉| 983kB 82.3MB/s eta 0:00:01\r\u001b[K    100% |████████████████████████████████| 993kB 20.8MB/s \n",
            "\u001b[?25h  Building wheel for PyDrive (setup.py) ... \u001b[?25ldone\n",
            "\u001b[?25h"
          ],
          "name": "stdout"
        }
      ]
    },
    {
      "metadata": {
        "id": "aoZuId1EWgFH",
        "colab_type": "code",
        "colab": {}
      },
      "cell_type": "code",
      "source": [
        "link = \"https://drive.google.com/open?id=1rO49I-W_xtsHgqNZQr1C0eAzZIxEzBUK\"\n",
        "fluff, id = link.split('=')\n",
        "downloaded = drive.CreateFile({'id':id}) \n",
        "downloaded.GetContentFile('AirWays_Sentiment_Analysis.csv')  \n",
        "tweets = pd.read_csv('AirWays_Sentiment_Analysis.csv')"
      ],
      "execution_count": 0,
      "outputs": []
    },
    {
      "metadata": {
        "id": "FEVk0JLFnbu4",
        "colab_type": "text"
      },
      "cell_type": "markdown",
      "source": [
        "### Data Cleaning"
      ]
    },
    {
      "metadata": {
        "id": "djR1IS7hc2eE",
        "colab_type": "code",
        "colab": {}
      },
      "cell_type": "code",
      "source": [
        "# Deleting unwanted columns from the dataset\n",
        "\n",
        "tweets = tweets.drop(columns = ['tweet_id', 'airline_sentiment_confidence', 'airline', 'name',\n",
        "       'tweet_created', 'tweet_location', 'user_timezone', 'airline_sentiment',], axis = 1)"
      ],
      "execution_count": 0,
      "outputs": []
    },
    {
      "metadata": {
        "id": "QW5rRagKXIul",
        "colab_type": "code",
        "outputId": "7d0e4dea-de82-481c-98c2-478a544f3807",
        "colab": {
          "base_uri": "https://localhost:8080/",
          "height": 34
        }
      },
      "cell_type": "code",
      "source": [
        "# Looking at one data point\n",
        "\n",
        "tweets['text'][1]"
      ],
      "execution_count": 0,
      "outputs": [
        {
          "output_type": "execute_result",
          "data": {
            "text/plain": [
              "\"@VirginAmerica plus you've added commercials to the experience... tacky.\""
            ]
          },
          "metadata": {
            "tags": []
          },
          "execution_count": 5
        }
      ]
    },
    {
      "metadata": {
        "id": "c5jAJRROmH0u",
        "colab_type": "text"
      },
      "cell_type": "markdown",
      "source": [
        "For the first step we are going to extract the username through the tweets (preceded by @ or by RT @). We keep this information in the column “tweetos”."
      ]
    },
    {
      "metadata": {
        "id": "l-CY8P1UXLLm",
        "colab_type": "code",
        "outputId": "66ebac3f-2891-4f79-9788-217f772ea638",
        "colab": {
          "base_uri": "https://localhost:8080/",
          "height": 34
        }
      },
      "cell_type": "code",
      "source": [
        "#Preprocessing del RT @blablabla:\n",
        "tweets['tweetos'] = '' \n",
        "\n",
        "#add tweetos first part\n",
        "for i in range(len(tweets['text'])):\n",
        "    try:\n",
        "        tweets['tweetos'][i] = tweets['text'].str.split(' ')[i][0]\n",
        "    except AttributeError:    \n",
        "        tweets['tweetos'][i] = 'other'\n",
        "\n",
        "#Preprocessing tweetos. select tweetos contains 'RT @'\n",
        "for i in range(len(tweets['text'])):\n",
        "    if tweets['tweetos'].str.contains('@')[i]  == False:\n",
        "        tweets['tweetos'][i] = 'other'\n",
        "        \n",
        "# remove URLs, RTs, and twitter handles\n",
        "for i in range(len(tweets['text'])):\n",
        "    tweets['text'][i] = \" \".join([word for word in tweets['text'][i].split()\n",
        "                                if 'http' not in word and '@' not in word and '<' not in word])\n",
        "\n",
        "\n",
        "tweets['text'][1]"
      ],
      "execution_count": 0,
      "outputs": [
        {
          "output_type": "execute_result",
          "data": {
            "text/plain": [
              "\"plus you've added commercials to the experience... tacky.\""
            ]
          },
          "metadata": {
            "tags": []
          },
          "execution_count": 6
        }
      ]
    },
    {
      "metadata": {
        "id": "fV60sbY1mb5S",
        "colab_type": "text"
      },
      "cell_type": "markdown",
      "source": [
        "We can see that the first step of the cleaning it well done ! The username and the URL are deleted correctly. Now we are going to delete certains punctuations, put the text in lower case and delete the double space with the function apply."
      ]
    },
    {
      "metadata": {
        "id": "bGFpOwThXdxk",
        "colab_type": "code",
        "outputId": "8aff3afe-9a00-4d36-b461-bca89f92adca",
        "colab": {
          "base_uri": "https://localhost:8080/",
          "height": 34
        }
      },
      "cell_type": "code",
      "source": [
        "tweets['text'] = tweets['text'].apply(lambda x: re.sub('[!@#$:).;,?&]', '', x.lower()))\n",
        "tweets['text'] = tweets['text'].apply(lambda x: re.sub('  ', ' ', x))\n",
        "tweets['text'][1]"
      ],
      "execution_count": 0,
      "outputs": [
        {
          "output_type": "execute_result",
          "data": {
            "text/plain": [
              "\"plus you've added commercials to the experience tacky\""
            ]
          },
          "metadata": {
            "tags": []
          },
          "execution_count": 7
        }
      ]
    },
    {
      "metadata": {
        "id": "LgPWdGgWnftu",
        "colab_type": "text"
      },
      "cell_type": "markdown",
      "source": [
        "### Sentiment Analysis"
      ]
    },
    {
      "metadata": {
        "id": "lANopUPTmo8R",
        "colab_type": "text"
      },
      "cell_type": "markdown",
      "source": [
        "Now, we are going to do an sentiment analysis. The objective is to class by type the tweets. We are going to distinguish 3 kinds of tweets according to their polarity score. We will have the Happy tweets, the neutral tweets, and the Sad tweets."
      ]
    },
    {
      "metadata": {
        "id": "T3lPZ-ZBYvnF",
        "colab_type": "code",
        "colab": {}
      },
      "cell_type": "code",
      "source": [
        "tweets['text_lem'] = [''.join([WordNetLemmatizer().lemmatize(re.sub('[^A-Za-z]', ' ', line)) for line in lists]).strip() for lists in tweets['text']]       \n",
        "vectorizer = TfidfVectorizer(max_df = 0.5, max_features = 10000, min_df = 10, stop_words = 'english', use_idf = True)\n",
        "X = vectorizer.fit_transform(tweets['text_lem'].str.upper())\n",
        "sid = SentimentIntensityAnalyzer()\n",
        "tweets['sentiment_compound_polarity'] = tweets.text_lem.apply(lambda x: sid.polarity_scores(x)['compound'])\n",
        "tweets['sentiment_neutral'] = tweets.text_lem.apply(lambda x: sid.polarity_scores(x)['neu'])\n",
        "tweets['sentiment_negative'] = tweets.text_lem.apply(lambda x: sid.polarity_scores(x)['neg'])\n",
        "tweets['sentiment_pos'] = tweets.text_lem.apply(lambda x: sid.polarity_scores(x)['pos'])\n",
        "tweets['sentiment_type'] = ''\n",
        "tweets.loc[tweets.sentiment_compound_polarity > 0,'sentiment_type'] = 'HAPPY'\n",
        "tweets.loc[tweets.sentiment_compound_polarity == 0,'sentiment_type'] = 'NEUTRAL'\n",
        "tweets.loc[tweets.sentiment_compound_polarity < 0,'sentiment_type'] = 'SAD'"
      ],
      "execution_count": 0,
      "outputs": []
    },
    {
      "metadata": {
        "id": "unqWqPcIWTnW",
        "colab_type": "code",
        "outputId": "b85cfed9-c0cc-486a-cea8-1b996a4dc947",
        "colab": {
          "base_uri": "https://localhost:8080/",
          "height": 102
        }
      },
      "cell_type": "code",
      "source": [
        "tweets_sentiment.head()"
      ],
      "execution_count": 0,
      "outputs": [
        {
          "output_type": "execute_result",
          "data": {
            "text/plain": [
              "sentiment_type\n",
              "HAPPY      6392\n",
              "NEUTRAL    3219\n",
              "SAD        5029\n",
              "Name: , dtype: int64"
            ]
          },
          "metadata": {
            "tags": []
          },
          "execution_count": 16
        }
      ]
    },
    {
      "metadata": {
        "id": "0j-6H3xUY-C9",
        "colab_type": "code",
        "outputId": "aa99eb7c-fe7d-4480-8827-ba063de09a24",
        "colab": {
          "base_uri": "https://localhost:8080/",
          "height": 610
        }
      },
      "cell_type": "code",
      "source": [
        "tweets_sentiment = tweets.groupby(['sentiment_type'])['sentiment_neutral'].count()\n",
        "tweets_sentiment.rename(\"\", inplace = True)\n",
        "explode = (1, 0, 0)\n",
        "plt.subplot(221)\n",
        "tweets_sentiment.transpose().plot(kind = 'barh', figsize=(20, 20))\n",
        "plt.title('Sentiment Analysis 1', bbox = {'facecolor':'0.8', 'pad':0})\n",
        "plt.subplot(222)\n",
        "tweets_sentiment.plot(kind = 'pie', figsize = (20, 20), autopct = '%1.1f%%', shadow = True)\n",
        "plt.legend(bbox_to_anchor = (1, 1), loc = 3, borderaxespad = 0.)\n",
        "plt.title('Sentiment Analysis 2', bbox = {'facecolor':'0.8', 'pad':0})\n",
        "plt.show()"
      ],
      "execution_count": 0,
      "outputs": [
        {
          "output_type": "display_data",
          "data": {
            "image/png": "[encoded data removed]",
            "text/plain": [
              "<Figure size 1440x1440 with 2 Axes>"
            ]
          },
          "metadata": {
            "tags": []
          }
        }
      ]
    },
    {
      "metadata": {
        "id": "xF-olpbkcSiK",
        "colab_type": "code",
        "outputId": "216ef53f-3c8a-443d-a4aa-8cd673f42972",
        "colab": {
          "base_uri": "https://localhost:8080/",
          "height": 489
        }
      },
      "cell_type": "code",
      "source": [
        "tweets.head()"
      ],
      "execution_count": 0,
      "outputs": [
        {
          "output_type": "execute_result",
          "data": {
            "text/html": [
              "<div>\n",
              "<style scoped>\n",
              "    .dataframe tbody tr th:only-of-type {\n",
              "        vertical-align: middle;\n",
              "    }\n",
              "\n",
              "    .dataframe tbody tr th {\n",
              "        vertical-align: top;\n",
              "    }\n",
              "\n",
              "    .dataframe thead th {\n",
              "        text-align: right;\n",
              "    }\n",
              "</style>\n",
              "<table border=\"1\" class=\"dataframe\">\n",
              "  <thead>\n",
              "    <tr style=\"text-align: right;\">\n",
              "      <th></th>\n",
              "      <th>text</th>\n",
              "      <th>tweetos</th>\n",
              "      <th>text_lem</th>\n",
              "      <th>sentiment_compound_polarity</th>\n",
              "      <th>sentiment_neutral</th>\n",
              "      <th>sentiment_negative</th>\n",
              "      <th>sentiment_pos</th>\n",
              "      <th>sentiment_type</th>\n",
              "    </tr>\n",
              "  </thead>\n",
              "  <tbody>\n",
              "    <tr>\n",
              "      <th>0</th>\n",
              "      <td>what said</td>\n",
              "      <td>@VirginAmerica</td>\n",
              "      <td>what said</td>\n",
              "      <td>0.0000</td>\n",
              "      <td>1.000</td>\n",
              "      <td>0.000</td>\n",
              "      <td>0.000</td>\n",
              "      <td>NEUTRAL</td>\n",
              "    </tr>\n",
              "    <tr>\n",
              "      <th>1</th>\n",
              "      <td>plus you've added commercials to the experienc...</td>\n",
              "      <td>@VirginAmerica</td>\n",
              "      <td>plus you ve added commercials to the experienc...</td>\n",
              "      <td>0.0000</td>\n",
              "      <td>1.000</td>\n",
              "      <td>0.000</td>\n",
              "      <td>0.000</td>\n",
              "      <td>NEUTRAL</td>\n",
              "    </tr>\n",
              "    <tr>\n",
              "      <th>2</th>\n",
              "      <td>i didn't today must mean i need to take anothe...</td>\n",
              "      <td>@VirginAmerica</td>\n",
              "      <td>i didn t today must mean i need to take anothe...</td>\n",
              "      <td>0.0000</td>\n",
              "      <td>1.000</td>\n",
              "      <td>0.000</td>\n",
              "      <td>0.000</td>\n",
              "      <td>NEUTRAL</td>\n",
              "    </tr>\n",
              "    <tr>\n",
              "      <th>3</th>\n",
              "      <td>it's really aggressive to blast obnoxious \"ent...</td>\n",
              "      <td>@VirginAmerica</td>\n",
              "      <td>it s really aggressive to blast obnoxious  ent...</td>\n",
              "      <td>-0.2716</td>\n",
              "      <td>0.628</td>\n",
              "      <td>0.236</td>\n",
              "      <td>0.135</td>\n",
              "      <td>SAD</td>\n",
              "    </tr>\n",
              "    <tr>\n",
              "      <th>4</th>\n",
              "      <td>and it's a really big bad thing about it</td>\n",
              "      <td>@VirginAmerica</td>\n",
              "      <td>and it s a really big bad thing about it</td>\n",
              "      <td>-0.5829</td>\n",
              "      <td>0.649</td>\n",
              "      <td>0.351</td>\n",
              "      <td>0.000</td>\n",
              "      <td>SAD</td>\n",
              "    </tr>\n",
              "  </tbody>\n",
              "</table>\n",
              "</div>"
            ],
            "text/plain": [
              "                                                text         tweetos  \\\n",
              "0                                          what said  @VirginAmerica   \n",
              "1  plus you've added commercials to the experienc...  @VirginAmerica   \n",
              "2  i didn't today must mean i need to take anothe...  @VirginAmerica   \n",
              "3  it's really aggressive to blast obnoxious \"ent...  @VirginAmerica   \n",
              "4           and it's a really big bad thing about it  @VirginAmerica   \n",
              "\n",
              "                                            text_lem  \\\n",
              "0                                          what said   \n",
              "1  plus you ve added commercials to the experienc...   \n",
              "2  i didn t today must mean i need to take anothe...   \n",
              "3  it s really aggressive to blast obnoxious  ent...   \n",
              "4           and it s a really big bad thing about it   \n",
              "\n",
              "   sentiment_compound_polarity  sentiment_neutral  sentiment_negative  \\\n",
              "0                       0.0000              1.000               0.000   \n",
              "1                       0.0000              1.000               0.000   \n",
              "2                       0.0000              1.000               0.000   \n",
              "3                      -0.2716              0.628               0.236   \n",
              "4                      -0.5829              0.649               0.351   \n",
              "\n",
              "   sentiment_pos sentiment_type  \n",
              "0          0.000        NEUTRAL  \n",
              "1          0.000        NEUTRAL  \n",
              "2          0.000        NEUTRAL  \n",
              "3          0.135            SAD  \n",
              "4          0.000            SAD  "
            ]
          },
          "metadata": {
            "tags": []
          },
          "execution_count": 10
        }
      ]
    },
    {
      "metadata": {
        "id": "hm7-NhCcninD",
        "colab_type": "text"
      },
      "cell_type": "markdown",
      "source": [
        "### Word Count"
      ]
    },
    {
      "metadata": {
        "id": "mRGntotOhW7Q",
        "colab_type": "code",
        "outputId": "b53ea333-755c-4904-81fa-6cc49af27955",
        "colab": {
          "base_uri": "https://localhost:8080/",
          "height": 489
        }
      },
      "cell_type": "code",
      "source": [
        "tweets['word_count'] = tweets['text_lem'].str.split().str.len()\n",
        "tweets.head()"
      ],
      "execution_count": 0,
      "outputs": [
        {
          "output_type": "execute_result",
          "data": {
            "text/html": [
              "<div>\n",
              "<style scoped>\n",
              "    .dataframe tbody tr th:only-of-type {\n",
              "        vertical-align: middle;\n",
              "    }\n",
              "\n",
              "    .dataframe tbody tr th {\n",
              "        vertical-align: top;\n",
              "    }\n",
              "\n",
              "    .dataframe thead th {\n",
              "        text-align: right;\n",
              "    }\n",
              "</style>\n",
              "<table border=\"1\" class=\"dataframe\">\n",
              "  <thead>\n",
              "    <tr style=\"text-align: right;\">\n",
              "      <th></th>\n",
              "      <th>text</th>\n",
              "      <th>tweetos</th>\n",
              "      <th>text_lem</th>\n",
              "      <th>sentiment_compound_polarity</th>\n",
              "      <th>sentiment_neutral</th>\n",
              "      <th>sentiment_negative</th>\n",
              "      <th>sentiment_pos</th>\n",
              "      <th>sentiment_type</th>\n",
              "      <th>word_count</th>\n",
              "    </tr>\n",
              "  </thead>\n",
              "  <tbody>\n",
              "    <tr>\n",
              "      <th>0</th>\n",
              "      <td>what said</td>\n",
              "      <td>@VirginAmerica</td>\n",
              "      <td>what said</td>\n",
              "      <td>0.0000</td>\n",
              "      <td>1.000</td>\n",
              "      <td>0.000</td>\n",
              "      <td>0.000</td>\n",
              "      <td>NEUTRAL</td>\n",
              "      <td>2</td>\n",
              "    </tr>\n",
              "    <tr>\n",
              "      <th>1</th>\n",
              "      <td>plus you've added commercials to the experienc...</td>\n",
              "      <td>@VirginAmerica</td>\n",
              "      <td>plus you ve added commercials to the experienc...</td>\n",
              "      <td>0.0000</td>\n",
              "      <td>1.000</td>\n",
              "      <td>0.000</td>\n",
              "      <td>0.000</td>\n",
              "      <td>NEUTRAL</td>\n",
              "      <td>9</td>\n",
              "    </tr>\n",
              "    <tr>\n",
              "      <th>2</th>\n",
              "      <td>i didn't today must mean i need to take anothe...</td>\n",
              "      <td>@VirginAmerica</td>\n",
              "      <td>i didn t today must mean i need to take anothe...</td>\n",
              "      <td>0.0000</td>\n",
              "      <td>1.000</td>\n",
              "      <td>0.000</td>\n",
              "      <td>0.000</td>\n",
              "      <td>NEUTRAL</td>\n",
              "      <td>12</td>\n",
              "    </tr>\n",
              "    <tr>\n",
              "      <th>3</th>\n",
              "      <td>it's really aggressive to blast obnoxious \"ent...</td>\n",
              "      <td>@VirginAmerica</td>\n",
              "      <td>it s really aggressive to blast obnoxious  ent...</td>\n",
              "      <td>-0.2716</td>\n",
              "      <td>0.628</td>\n",
              "      <td>0.236</td>\n",
              "      <td>0.135</td>\n",
              "      <td>SAD</td>\n",
              "      <td>17</td>\n",
              "    </tr>\n",
              "    <tr>\n",
              "      <th>4</th>\n",
              "      <td>and it's a really big bad thing about it</td>\n",
              "      <td>@VirginAmerica</td>\n",
              "      <td>and it s a really big bad thing about it</td>\n",
              "      <td>-0.5829</td>\n",
              "      <td>0.649</td>\n",
              "      <td>0.351</td>\n",
              "      <td>0.000</td>\n",
              "      <td>SAD</td>\n",
              "      <td>10</td>\n",
              "    </tr>\n",
              "  </tbody>\n",
              "</table>\n",
              "</div>"
            ],
            "text/plain": [
              "                                                text         tweetos  \\\n",
              "0                                          what said  @VirginAmerica   \n",
              "1  plus you've added commercials to the experienc...  @VirginAmerica   \n",
              "2  i didn't today must mean i need to take anothe...  @VirginAmerica   \n",
              "3  it's really aggressive to blast obnoxious \"ent...  @VirginAmerica   \n",
              "4           and it's a really big bad thing about it  @VirginAmerica   \n",
              "\n",
              "                                            text_lem  \\\n",
              "0                                          what said   \n",
              "1  plus you ve added commercials to the experienc...   \n",
              "2  i didn t today must mean i need to take anothe...   \n",
              "3  it s really aggressive to blast obnoxious  ent...   \n",
              "4           and it s a really big bad thing about it   \n",
              "\n",
              "   sentiment_compound_polarity  sentiment_neutral  sentiment_negative  \\\n",
              "0                       0.0000              1.000               0.000   \n",
              "1                       0.0000              1.000               0.000   \n",
              "2                       0.0000              1.000               0.000   \n",
              "3                      -0.2716              0.628               0.236   \n",
              "4                      -0.5829              0.649               0.351   \n",
              "\n",
              "   sentiment_pos sentiment_type  word_count  \n",
              "0          0.000        NEUTRAL           2  \n",
              "1          0.000        NEUTRAL           9  \n",
              "2          0.000        NEUTRAL          12  \n",
              "3          0.135            SAD          17  \n",
              "4          0.000            SAD          10  "
            ]
          },
          "metadata": {
            "tags": []
          },
          "execution_count": 11
        }
      ]
    },
    {
      "metadata": {
        "id": "B2KL_o9FsIO6",
        "colab_type": "text"
      },
      "cell_type": "markdown",
      "source": [
        "### bigrams"
      ]
    },
    {
      "metadata": {
        "id": "vQPNyYNVhdeC",
        "colab_type": "code",
        "colab": {}
      },
      "cell_type": "code",
      "source": [
        "def find_ngrams(input_list, n):\n",
        "    return list(zip(*[input_list[i:] for i in range(n)]))"
      ],
      "execution_count": 0,
      "outputs": []
    },
    {
      "metadata": {
        "id": "RhPrUINcsN_N",
        "colab_type": "code",
        "colab": {}
      },
      "cell_type": "code",
      "source": [
        "tweets['bigrams'] = tweets['text_lem'].map(lambda x: find_ngrams(x.split(\" \"), 2))"
      ],
      "execution_count": 0,
      "outputs": []
    },
    {
      "metadata": {
        "id": "0ezGNQOesP79",
        "colab_type": "code",
        "outputId": "47c1a9d3-da47-40cf-af76-27f89f91e6a1",
        "colab": {
          "base_uri": "https://localhost:8080/",
          "height": 501
        }
      },
      "cell_type": "code",
      "source": [
        "tweets.head()"
      ],
      "execution_count": 0,
      "outputs": [
        {
          "output_type": "execute_result",
          "data": {
            "text/html": [
              "<div>\n",
              "<style scoped>\n",
              "    .dataframe tbody tr th:only-of-type {\n",
              "        vertical-align: middle;\n",
              "    }\n",
              "\n",
              "    .dataframe tbody tr th {\n",
              "        vertical-align: top;\n",
              "    }\n",
              "\n",
              "    .dataframe thead th {\n",
              "        text-align: right;\n",
              "    }\n",
              "</style>\n",
              "<table border=\"1\" class=\"dataframe\">\n",
              "  <thead>\n",
              "    <tr style=\"text-align: right;\">\n",
              "      <th></th>\n",
              "      <th>text</th>\n",
              "      <th>tweetos</th>\n",
              "      <th>text_lem</th>\n",
              "      <th>sentiment_compound_polarity</th>\n",
              "      <th>sentiment_neutral</th>\n",
              "      <th>sentiment_negative</th>\n",
              "      <th>sentiment_pos</th>\n",
              "      <th>sentiment_type</th>\n",
              "      <th>word_count</th>\n",
              "      <th>bigrams</th>\n",
              "    </tr>\n",
              "  </thead>\n",
              "  <tbody>\n",
              "    <tr>\n",
              "      <th>0</th>\n",
              "      <td>what said</td>\n",
              "      <td>@VirginAmerica</td>\n",
              "      <td>what said</td>\n",
              "      <td>0.0000</td>\n",
              "      <td>1.000</td>\n",
              "      <td>0.000</td>\n",
              "      <td>0.000</td>\n",
              "      <td>NEUTRAL</td>\n",
              "      <td>2</td>\n",
              "      <td>[(what, said)]</td>\n",
              "    </tr>\n",
              "    <tr>\n",
              "      <th>1</th>\n",
              "      <td>plus you've added commercials to the experienc...</td>\n",
              "      <td>@VirginAmerica</td>\n",
              "      <td>plus you ve added commercials to the experienc...</td>\n",
              "      <td>0.0000</td>\n",
              "      <td>1.000</td>\n",
              "      <td>0.000</td>\n",
              "      <td>0.000</td>\n",
              "      <td>NEUTRAL</td>\n",
              "      <td>9</td>\n",
              "      <td>[(plus, you), (you, ve), (ve, added), (added, ...</td>\n",
              "    </tr>\n",
              "    <tr>\n",
              "      <th>2</th>\n",
              "      <td>i didn't today must mean i need to take anothe...</td>\n",
              "      <td>@VirginAmerica</td>\n",
              "      <td>i didn t today must mean i need to take anothe...</td>\n",
              "      <td>0.0000</td>\n",
              "      <td>1.000</td>\n",
              "      <td>0.000</td>\n",
              "      <td>0.000</td>\n",
              "      <td>NEUTRAL</td>\n",
              "      <td>12</td>\n",
              "      <td>[(i, didn), (didn, t), (t, today), (today, mus...</td>\n",
              "    </tr>\n",
              "    <tr>\n",
              "      <th>3</th>\n",
              "      <td>it's really aggressive to blast obnoxious \"ent...</td>\n",
              "      <td>@VirginAmerica</td>\n",
              "      <td>it s really aggressive to blast obnoxious  ent...</td>\n",
              "      <td>-0.2716</td>\n",
              "      <td>0.628</td>\n",
              "      <td>0.236</td>\n",
              "      <td>0.135</td>\n",
              "      <td>SAD</td>\n",
              "      <td>17</td>\n",
              "      <td>[(it, s), (s, really), (really, aggressive), (...</td>\n",
              "    </tr>\n",
              "    <tr>\n",
              "      <th>4</th>\n",
              "      <td>and it's a really big bad thing about it</td>\n",
              "      <td>@VirginAmerica</td>\n",
              "      <td>and it s a really big bad thing about it</td>\n",
              "      <td>-0.5829</td>\n",
              "      <td>0.649</td>\n",
              "      <td>0.351</td>\n",
              "      <td>0.000</td>\n",
              "      <td>SAD</td>\n",
              "      <td>10</td>\n",
              "      <td>[(and, it), (it, s), (s, a), (a, really), (rea...</td>\n",
              "    </tr>\n",
              "  </tbody>\n",
              "</table>\n",
              "</div>"
            ],
            "text/plain": [
              "                                                text         tweetos  \\\n",
              "0                                          what said  @VirginAmerica   \n",
              "1  plus you've added commercials to the experienc...  @VirginAmerica   \n",
              "2  i didn't today must mean i need to take anothe...  @VirginAmerica   \n",
              "3  it's really aggressive to blast obnoxious \"ent...  @VirginAmerica   \n",
              "4           and it's a really big bad thing about it  @VirginAmerica   \n",
              "\n",
              "                                            text_lem  \\\n",
              "0                                          what said   \n",
              "1  plus you ve added commercials to the experienc...   \n",
              "2  i didn t today must mean i need to take anothe...   \n",
              "3  it s really aggressive to blast obnoxious  ent...   \n",
              "4           and it s a really big bad thing about it   \n",
              "\n",
              "   sentiment_compound_polarity  sentiment_neutral  sentiment_negative  \\\n",
              "0                       0.0000              1.000               0.000   \n",
              "1                       0.0000              1.000               0.000   \n",
              "2                       0.0000              1.000               0.000   \n",
              "3                      -0.2716              0.628               0.236   \n",
              "4                      -0.5829              0.649               0.351   \n",
              "\n",
              "   sentiment_pos sentiment_type  word_count  \\\n",
              "0          0.000        NEUTRAL           2   \n",
              "1          0.000        NEUTRAL           9   \n",
              "2          0.000        NEUTRAL          12   \n",
              "3          0.135            SAD          17   \n",
              "4          0.000            SAD          10   \n",
              "\n",
              "                                             bigrams  \n",
              "0                                     [(what, said)]  \n",
              "1  [(plus, you), (you, ve), (ve, added), (added, ...  \n",
              "2  [(i, didn), (didn, t), (t, today), (today, mus...  \n",
              "3  [(it, s), (s, really), (really, aggressive), (...  \n",
              "4  [(and, it), (it, s), (s, a), (a, really), (rea...  "
            ]
          },
          "metadata": {
            "tags": []
          },
          "execution_count": 15
        }
      ]
    },
    {
      "metadata": {
        "id": "1U-TFQ8WsRe1",
        "colab_type": "code",
        "colab": {}
      },
      "cell_type": "code",
      "source": [
        "tweets_ = pd.read_csv('AirWays_Sentiment_Analysis.csv')"
      ],
      "execution_count": 0,
      "outputs": []
    },
    {
      "metadata": {
        "id": "nhtR5VUmnvin",
        "colab_type": "code",
        "outputId": "4816e843-6c4a-4e5b-a554-557d38268306",
        "colab": {
          "base_uri": "https://localhost:8080/",
          "height": 85
        }
      },
      "cell_type": "code",
      "source": [
        "tweets_.columns"
      ],
      "execution_count": 0,
      "outputs": [
        {
          "output_type": "execute_result",
          "data": {
            "text/plain": [
              "Index(['tweet_id', 'airline_sentiment_confidence', 'airline', 'name', 'text',\n",
              "       'tweet_created', 'tweet_location', 'user_timezone',\n",
              "       'airline_sentiment'],\n",
              "      dtype='object')"
            ]
          },
          "metadata": {
            "tags": []
          },
          "execution_count": 21
        }
      ]
    },
    {
      "metadata": {
        "id": "66fB3ocmoHmd",
        "colab_type": "code",
        "outputId": "33e0b5e2-56c7-4dbd-806e-8fdc33b12072",
        "colab": {
          "base_uri": "https://localhost:8080/",
          "height": 450
        }
      },
      "cell_type": "code",
      "source": [
        "tweets_.head()"
      ],
      "execution_count": 0,
      "outputs": [
        {
          "output_type": "execute_result",
          "data": {
            "text/html": [
              "<div>\n",
              "<style scoped>\n",
              "    .dataframe tbody tr th:only-of-type {\n",
              "        vertical-align: middle;\n",
              "    }\n",
              "\n",
              "    .dataframe tbody tr th {\n",
              "        vertical-align: top;\n",
              "    }\n",
              "\n",
              "    .dataframe thead th {\n",
              "        text-align: right;\n",
              "    }\n",
              "</style>\n",
              "<table border=\"1\" class=\"dataframe\">\n",
              "  <thead>\n",
              "    <tr style=\"text-align: right;\">\n",
              "      <th></th>\n",
              "      <th>tweet_id</th>\n",
              "      <th>airline_sentiment_confidence</th>\n",
              "      <th>airline</th>\n",
              "      <th>name</th>\n",
              "      <th>text</th>\n",
              "      <th>tweet_created</th>\n",
              "      <th>tweet_location</th>\n",
              "      <th>user_timezone</th>\n",
              "      <th>airline_sentiment</th>\n",
              "    </tr>\n",
              "  </thead>\n",
              "  <tbody>\n",
              "    <tr>\n",
              "      <th>0</th>\n",
              "      <td>5.703061e+17</td>\n",
              "      <td>1.0000</td>\n",
              "      <td>Virgin America</td>\n",
              "      <td>cairdin</td>\n",
              "      <td>@VirginAmerica What @dhepburn said.</td>\n",
              "      <td>2015-02-24 11:35:52 -0800</td>\n",
              "      <td>NaN</td>\n",
              "      <td>Eastern Time (US &amp; Canada)</td>\n",
              "      <td>NaN</td>\n",
              "    </tr>\n",
              "    <tr>\n",
              "      <th>1</th>\n",
              "      <td>5.703011e+17</td>\n",
              "      <td>0.3486</td>\n",
              "      <td>Virgin America</td>\n",
              "      <td>jnardino</td>\n",
              "      <td>@VirginAmerica plus you've added commercials t...</td>\n",
              "      <td>2015-02-24 11:15:59 -0800</td>\n",
              "      <td>NaN</td>\n",
              "      <td>Pacific Time (US &amp; Canada)</td>\n",
              "      <td>NaN</td>\n",
              "    </tr>\n",
              "    <tr>\n",
              "      <th>2</th>\n",
              "      <td>5.703011e+17</td>\n",
              "      <td>0.6837</td>\n",
              "      <td>Virgin America</td>\n",
              "      <td>yvonnalynn</td>\n",
              "      <td>@VirginAmerica I didn't today... Must mean I n...</td>\n",
              "      <td>2015-02-24 11:15:48 -0800</td>\n",
              "      <td>Lets Play</td>\n",
              "      <td>Central Time (US &amp; Canada)</td>\n",
              "      <td>NaN</td>\n",
              "    </tr>\n",
              "    <tr>\n",
              "      <th>3</th>\n",
              "      <td>5.703010e+17</td>\n",
              "      <td>1.0000</td>\n",
              "      <td>Virgin America</td>\n",
              "      <td>jnardino</td>\n",
              "      <td>@VirginAmerica it's really aggressive to blast...</td>\n",
              "      <td>2015-02-24 11:15:36 -0800</td>\n",
              "      <td>NaN</td>\n",
              "      <td>Pacific Time (US &amp; Canada)</td>\n",
              "      <td>NaN</td>\n",
              "    </tr>\n",
              "    <tr>\n",
              "      <th>4</th>\n",
              "      <td>5.703008e+17</td>\n",
              "      <td>1.0000</td>\n",
              "      <td>Virgin America</td>\n",
              "      <td>jnardino</td>\n",
              "      <td>@VirginAmerica and it's a really big bad thing...</td>\n",
              "      <td>2015-02-24 11:14:45 -0800</td>\n",
              "      <td>NaN</td>\n",
              "      <td>Pacific Time (US &amp; Canada)</td>\n",
              "      <td>NaN</td>\n",
              "    </tr>\n",
              "  </tbody>\n",
              "</table>\n",
              "</div>"
            ],
            "text/plain": [
              "       tweet_id  airline_sentiment_confidence         airline        name  \\\n",
              "0  5.703061e+17                        1.0000  Virgin America     cairdin   \n",
              "1  5.703011e+17                        0.3486  Virgin America    jnardino   \n",
              "2  5.703011e+17                        0.6837  Virgin America  yvonnalynn   \n",
              "3  5.703010e+17                        1.0000  Virgin America    jnardino   \n",
              "4  5.703008e+17                        1.0000  Virgin America    jnardino   \n",
              "\n",
              "                                                text  \\\n",
              "0                @VirginAmerica What @dhepburn said.   \n",
              "1  @VirginAmerica plus you've added commercials t...   \n",
              "2  @VirginAmerica I didn't today... Must mean I n...   \n",
              "3  @VirginAmerica it's really aggressive to blast...   \n",
              "4  @VirginAmerica and it's a really big bad thing...   \n",
              "\n",
              "               tweet_created tweet_location               user_timezone  \\\n",
              "0  2015-02-24 11:35:52 -0800            NaN  Eastern Time (US & Canada)   \n",
              "1  2015-02-24 11:15:59 -0800            NaN  Pacific Time (US & Canada)   \n",
              "2  2015-02-24 11:15:48 -0800      Lets Play  Central Time (US & Canada)   \n",
              "3  2015-02-24 11:15:36 -0800            NaN  Pacific Time (US & Canada)   \n",
              "4  2015-02-24 11:14:45 -0800            NaN  Pacific Time (US & Canada)   \n",
              "\n",
              "   airline_sentiment  \n",
              "0                NaN  \n",
              "1                NaN  \n",
              "2                NaN  \n",
              "3                NaN  \n",
              "4                NaN  "
            ]
          },
          "metadata": {
            "tags": []
          },
          "execution_count": 22
        }
      ]
    },
    {
      "metadata": {
        "id": "j4jBwoBJny3B",
        "colab_type": "code",
        "colab": {}
      },
      "cell_type": "code",
      "source": [
        "tweets_['asc'] =  "
      ],
      "execution_count": 0,
      "outputs": []
    }
  ]
}